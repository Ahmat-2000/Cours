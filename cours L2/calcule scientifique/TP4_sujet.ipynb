{
 "cells": [
  {
   "cell_type": "markdown",
   "metadata": {},
   "source": [
    " TP  4 : Flocon de Koch\n",
    " ====="
   ]
  },
  {
   "cell_type": "markdown",
   "metadata": {},
   "source": [
    "1 - Introduction \n",
    "-----------\n",
    "\n",
    "\n",
    "L'objectif de ce TP est d'étudier la fonction la convolution et de l'appliquer pour générer un Flocon de Koch\n",
    "\n",
    "Le TP sera à réaliser en python 3. Les librairies utilisées sont installées sur les machines de l'université, vous pouvez néanmoins les installer sur vos propres machines à l'aide de l'utilitaire pip présent par défaut avec python.\n",
    "\t\n",
    "N'hésitez pas à regarder régulièrement la documentation de ces librairies, des exemples d'utilisation accompagnent généralement l'explication de chaque fonction.\n",
    "\n",
    "- Python 3: https://docs.python.org/3/\n",
    "- Numpy: https://docs.scipy.org/doc/numpy/reference/\n",
    "- Scipy: https://docs.scipy.org/doc/scipy/reference/\n",
    "- Matplotilb: https://matplotlib.org/contents.html\n",
    "\n",
    "**<span style=\"color:red\"> À part si cela est précisé, vous ne devez pas utiliser directement de boucle (`for`,`while`) ou de branchement conditionnel (`if`) durant ce TP.</span>.**\n"
   ]
  },
  {
   "cell_type": "code",
   "execution_count": null,
   "metadata": {},
   "outputs": [],
   "source": [
    "import numpy as np\n",
    "import matplotlib.pyplot as plt\n",
    "import scipy as sc\n",
    "import scipy.signal"
   ]
  },
  {
   "cell_type": "markdown",
   "metadata": {},
   "source": [
    "Afin de vous guider dans la détection d'erreur dans votre code, nous avons introduit des blocs de tests. Il n'est pas nécessaire que vous compreniez en détail le code de ces blocs. Vous devez uniquement les exécuter et corriger les erreurs de votre code si un des tests n'est pas valide. Il est important de noter que le fait de valider le test ne garantit pas que votre code ne contient pas d'erreur. Par contre un test non validé implique nécessairement que votre code contient une erreur.\n",
    "\n",
    "- Si tous les tests sont valides, vous aurez un message écrit en vert indiquant : Ok - Tous les tests sont validés.\n",
    "- Si un des tests n'est pas valide, vous aurez un message écrit en rouge indiquant : Au moins un test n'est pas validé.\n",
    "- Pour les tests non valides, vous aurez des éléments d'information sur le test non valide. En particulier, un message écrit en jaune vous détaillera la nature du test échoué."
   ]
  },
  {
   "cell_type": "code",
   "execution_count": null,
   "metadata": {
    "deletable": false,
    "nbgrader": {
     "cell_type": "code",
     "checksum": "abb3ddcc208dc9ceb262b3f0fd6afa0f",
     "grade": false,
     "grade_id": "cell-4896a2475d51a8f2",
     "locked": false,
     "schema_version": 3,
     "solution": true,
     "task": false
    }
   },
   "outputs": [],
   "source": [
    "# YOUR CODE HERE\n",
    "raise NotImplementedError()"
   ]
  },
  {
   "cell_type": "code",
   "execution_count": null,
   "metadata": {
    "deletable": false,
    "editable": false,
    "nbgrader": {
     "cell_type": "code",
     "checksum": "c3edd426dc13448ea09ac5a08110a3d2",
     "grade": true,
     "grade_id": "cell-5780a748c19e707c",
     "locked": true,
     "points": 0,
     "schema_version": 3,
     "solution": false,
     "task": false
    }
   },
   "outputs": [],
   "source": [
    "# Ce bloc permet de valider votre code. Vous ne devez pas le modifier.  \n",
    "try:\n",
    "    np.testing.assert_equal(a,42,err_msg=\"\\033[93m {}\\033[00m\" .format('Test 1 : a n\\'est pas égale à 42. Vérifiez que a==42'))\n",
    "except Exception as e: \n",
    "    print(\"\\033[91m {}\\033[00m\" .format('KO - Au moins un test n\\'est pas validé')) \n",
    "    print('Information sur le test non valide:')\n",
    "    print(e)\n",
    "    raise e\n",
    "else:\n",
    "    print(\"\\033[92m {}\\033[00m\" .format('Ok - Tous les tests sont validés.')) "
   ]
  },
  {
   "cell_type": "markdown",
   "metadata": {},
   "source": [
    "## 2 - Outils introductifs"
   ]
  },
  {
   "cell_type": "markdown",
   "metadata": {},
   "source": [
    "### 2.1 - Étude de la convolution sur plusieurs filtres\n",
    "\n",
    "Nous allons dans cette partie étudier l'effet de la convolution avec différents types de filtres sur des fonctions sinusoïdales. "
   ]
  },
  {
   "cell_type": "markdown",
   "metadata": {},
   "source": [
    "Définissez une variable $f=1$Hz correspondant à la fréquence d'un signal sinusoïdale."
   ]
  },
  {
   "cell_type": "code",
   "execution_count": null,
   "metadata": {
    "deletable": false,
    "nbgrader": {
     "cell_type": "code",
     "checksum": "851dac5c62b39d25f11789823e133146",
     "grade": false,
     "grade_id": "cell-79288c705e032c13",
     "locked": false,
     "schema_version": 3,
     "solution": true,
     "task": false
    }
   },
   "outputs": [],
   "source": [
    "# YOUR CODE HERE\n",
    "raise NotImplementedError()"
   ]
  },
  {
   "cell_type": "markdown",
   "metadata": {},
   "source": [
    "Construisez un tableau `x` contenant 2000 valeurs de $-5$ à $5$."
   ]
  },
  {
   "cell_type": "code",
   "execution_count": null,
   "metadata": {
    "deletable": false,
    "nbgrader": {
     "cell_type": "code",
     "checksum": "a90e98f6e9b2d1d648d6da5a34e89a4f",
     "grade": false,
     "grade_id": "cell-872518b732056922",
     "locked": false,
     "schema_version": 3,
     "solution": true,
     "task": false
    }
   },
   "outputs": [],
   "source": [
    "# YOUR CODE HERE\n",
    "raise NotImplementedError()"
   ]
  },
  {
   "cell_type": "code",
   "execution_count": null,
   "metadata": {
    "deletable": false,
    "editable": false,
    "nbgrader": {
     "cell_type": "code",
     "checksum": "b38a92de46bde5ecee398165afc06481",
     "grade": true,
     "grade_id": "cell-40ece7d91b9af4b2",
     "locked": true,
     "points": 1,
     "schema_version": 3,
     "solution": false,
     "task": false
    }
   },
   "outputs": [],
   "source": [
    "# Ce bloc permet de valider votre code. Vous ne devez pas le modifier.  \n",
    "try:\n",
    "    np.testing.assert_equal(x.shape,(2000,),err_msg=\"\\033[93m {}\\033[00m\" .format('Test 1 : x n\\'a pas la bonne taille.'))\n",
    "    np.testing.assert_equal(x[0],-5,err_msg=\"\\033[93m {}\\033[00m\" .format('Test 2 : La première valeur de x est fausse.'))\n",
    "    np.testing.assert_equal(x[-1],5,err_msg=\"\\033[93m {}\\033[00m\" .format('Test 3 : La dernière valeur de x est fausse.'))\n",
    "    np.testing.assert_almost_equal(x[42],-4.789894947473737,err_msg=\"\\033[93m {}\\033[00m\" .format('Test 4 : La 42 valeur de x est fausse.'))\n",
    "except Exception as e: \n",
    "    print(\"\\033[91m {}\\033[00m\" .format('KO - Au moins un test n\\'est pas validé')) \n",
    "    print('Information sur le test non valide:')\n",
    "    print(e)  \n",
    "    raise e\n",
    "else:\n",
    "    print(\"\\033[92m {}\\033[00m\" .format('Ok - Tous les tests sont validés.')) "
   ]
  },
  {
   "cell_type": "markdown",
   "metadata": {},
   "source": [
    "Construisez un tableau `y1` correspondant à l'équation $\\sin(2\\pi f x)$.   "
   ]
  },
  {
   "cell_type": "code",
   "execution_count": null,
   "metadata": {
    "deletable": false,
    "nbgrader": {
     "cell_type": "code",
     "checksum": "375615ef7ee9672c938976678d843aa1",
     "grade": false,
     "grade_id": "cell-db36ec991110079b",
     "locked": false,
     "schema_version": 3,
     "solution": true,
     "task": false
    }
   },
   "outputs": [],
   "source": [
    "# YOUR CODE HERE\n",
    "raise NotImplementedError()"
   ]
  },
  {
   "cell_type": "code",
   "execution_count": null,
   "metadata": {
    "deletable": false,
    "editable": false,
    "nbgrader": {
     "cell_type": "code",
     "checksum": "a4c82443125dfc961f3c675f40014561",
     "grade": true,
     "grade_id": "cell-0f7d24fc73753f24",
     "locked": true,
     "points": 1,
     "schema_version": 3,
     "solution": false,
     "task": false
    }
   },
   "outputs": [],
   "source": [
    "# Ce bloc permet de valider votre code. Vous ne devez pas le modifier.  \n",
    "try:\n",
    "    np.testing.assert_equal(y1.shape,(2000,),err_msg=\"\\033[93m {}\\033[00m\" .format('Test 1 : y1 n\\'a pas la bonne taille.'))\n",
    "    np.testing.assert_almost_equal(y1[0],1.22464680e-15,err_msg=\"\\033[93m {}\\033[00m\" .format('Test 2 : La première valeur de y1 est fausse.'))\n",
    "    np.testing.assert_almost_equal(y1[-1],1.22464680e-15,err_msg=\"\\033[93m {}\\033[00m\" .format('Test 3 : La dernière valeur de y1 est fausse.'))\n",
    "    np.testing.assert_almost_equal(y1[64],0.9043983406927987,err_msg=\"\\033[93m {}\\033[00m\" .format('Test 4 : La 64 valeur de y1 est fausse.'))\n",
    "except Exception as e: \n",
    "    print(\"\\033[91m {}\\033[00m\" .format('KO - Au moins un test n\\'est pas validé')) \n",
    "    print('Information sur le test non valide:')\n",
    "    print(e)  \n",
    "    raise e\n",
    "else:\n",
    "    print(\"\\033[92m {}\\033[00m\" .format('Ok - Tous les tests sont validés.')) "
   ]
  },
  {
   "cell_type": "markdown",
   "metadata": {},
   "source": [
    "#### 2.1.1 Filtrage par un filtre porte"
   ]
  },
  {
   "cell_type": "markdown",
   "metadata": {},
   "source": [
    "Définissez un vecteur aléatoire $e$ tiré selon une loi normale, de même taille que le tableau $x$.<br>\n",
    "Définissez et affichez la variable $y1e=y1+0.1e $. "
   ]
  },
  {
   "cell_type": "code",
   "execution_count": null,
   "metadata": {
    "deletable": false,
    "nbgrader": {
     "cell_type": "code",
     "checksum": "ab6402f3912f272046fd1a2ad2cc8b51",
     "grade": false,
     "grade_id": "cell-473f636a8fb6f4c6",
     "locked": false,
     "schema_version": 3,
     "solution": true,
     "task": false
    }
   },
   "outputs": [],
   "source": [
    "# YOUR CODE HERE\n",
    "raise NotImplementedError()"
   ]
  },
  {
   "cell_type": "code",
   "execution_count": null,
   "metadata": {
    "deletable": false,
    "editable": false,
    "nbgrader": {
     "cell_type": "code",
     "checksum": "d38eda3fc8d7be8f1bbb8d4265132254",
     "grade": true,
     "grade_id": "cell-e2f0614ec8cd1f81",
     "locked": true,
     "points": 1,
     "schema_version": 3,
     "solution": false,
     "task": false
    }
   },
   "outputs": [],
   "source": [
    "# Ce bloc permet de valider votre code. Vous ne devez pas le modifier.  \n",
    "try:\n",
    "    np.testing.assert_equal(y1e.shape,(2000,),err_msg=\"\\033[93m {}\\033[00m\" .format('Test 1 : y1e n\\'a pas la bonne taille.'))\n",
    "    np.testing.assert_array_less(np.mean(np.abs(y1-y1e)),1e-1,err_msg=\"\\033[93m {}\\033[00m\" .format('Test 2 : La moyenne du bruit n\\'est pas correcte.'))\n",
    "    np.testing.assert_array_less(np.abs(0.1-np.std(np.abs(y1-y1e))),1e-1,err_msg=\"\\033[93m {}\\033[00m\" .format('Test 3 : L\\'écart type du bruit n\\'est pas correcte.'))\n",
    "    np.testing.assert_array_less(1e-1,np.max(np.abs(y1-y1e)),err_msg=\"\\033[93m {}\\033[00m\" .format('Test 4 : Vérifiez que votre bruit suit bien une loi normale et non une loi uniforme.'))\n",
    "except Exception as e: \n",
    "    print(\"\\033[91m {}\\033[00m\" .format('KO - Au moins un test n\\'est pas validé')) \n",
    "    print('Information sur le test non valide:')\n",
    "    print(e)  \n",
    "    raise e\n",
    "else:\n",
    "    print(\"\\033[92m {}\\033[00m\" .format('Ok - Tous les tests sont validés.')) "
   ]
  },
  {
   "cell_type": "markdown",
   "metadata": {},
   "source": [
    "Construisez et affichez un filtre `filtrePorte` défini par: $$\\left\\{\n",
    "\t\\begin{array}{ll}\n",
    "\t1 &\\text{ si }  |x|<s\\\\\n",
    "\t0 &\\text{ sinon }\n",
    "\\end{array}\\right. $$\n",
    "Vous pouvez fixer le seuil $s$ à $10^{-1}$."
   ]
  },
  {
   "cell_type": "code",
   "execution_count": null,
   "metadata": {
    "deletable": false,
    "nbgrader": {
     "cell_type": "code",
     "checksum": "a58e4c885296681a84164984dcb516a2",
     "grade": false,
     "grade_id": "cell-9d800c4a4d2701dc",
     "locked": false,
     "schema_version": 3,
     "solution": true,
     "task": false
    }
   },
   "outputs": [],
   "source": [
    "# YOUR CODE HERE\n",
    "raise NotImplementedError()"
   ]
  },
  {
   "cell_type": "code",
   "execution_count": null,
   "metadata": {
    "deletable": false,
    "editable": false,
    "nbgrader": {
     "cell_type": "code",
     "checksum": "42c7fb7579aee26293d3fcdba3931dad",
     "grade": true,
     "grade_id": "cell-d458eeb0a4c20416",
     "locked": true,
     "points": 1,
     "schema_version": 3,
     "solution": false,
     "task": false
    }
   },
   "outputs": [],
   "source": [
    "# Ce bloc permet de valider votre code. Vous ne devez pas le modifier.  \n",
    "try:\n",
    "    np.testing.assert_equal(filtrePorte.shape,(2000,),err_msg=\"\\033[93m {}\\033[00m\" .format('Test 1 : filtrePorte n\\'a pas la bonne taille.'))\n",
    "    np.testing.assert_equal(np.sum(filtrePorte!=1)+np.sum(filtrePorte==1),2000,err_msg=\"\\033[93m {}\\033[00m\" .format('Test 2 : Il ne doit pas avoir de valeurs autres que 0 et 1.'))\n",
    "    np.testing.assert_equal(np.sum(filtrePorte),40,err_msg=\"\\033[93m {}\\033[00m\" .format('Test 3 : La zone a 1 n\\'est pas de la bonne taille.'))\n",
    "    np.testing.assert_equal(np.sum(filtrePorte[980:(980+40)]),40,err_msg=\"\\033[93m {}\\033[00m\" .format('Test 4 : La zone a 1 n\\'est pas au bon endroit.'))\n",
    "except Exception as e: \n",
    "    print(\"\\033[91m {}\\033[00m\" .format('KO - Au moins un test n\\'est pas validé')) \n",
    "    print('Information sur le test non valide:')\n",
    "    print(e)  \n",
    "    raise e\n",
    "else:\n",
    "    print(\"\\033[92m {}\\033[00m\" .format('Ok - Tous les tests sont validés.')) "
   ]
  },
  {
   "cell_type": "markdown",
   "metadata": {},
   "source": [
    "Il est possible de supprimer le bruit du signal `y1e` en utilisant un filtre moyenneur tel que la porte précédemment définie."
   ]
  },
  {
   "cell_type": "markdown",
   "metadata": {},
   "source": [
    "En utilisant la fonction `sc.signal.convolve` de scipy (avec le paramètre `'same'`), convoluez le signal `y1e` avec `filtrePorte` pour donner le vecteur `y1f`.  Divisez le résultat par le maximum de la valeur absolue de ses valeurs (afin d'avoir des valeurs dans l'intervalle $[-1,1]$). Affichez le résultat ainsi normalisé sur une figure. Que constatez-vous par rapport au signal `y1` ? "
   ]
  },
  {
   "cell_type": "code",
   "execution_count": null,
   "metadata": {
    "deletable": false,
    "nbgrader": {
     "cell_type": "code",
     "checksum": "3695957c8bceb25c3ce943667b34fa01",
     "grade": false,
     "grade_id": "cell-9ee93a00b62ee829",
     "locked": false,
     "schema_version": 3,
     "solution": true,
     "task": false
    }
   },
   "outputs": [],
   "source": [
    "# YOUR CODE HERE\n",
    "raise NotImplementedError()\n",
    "fig, axs = plt.subplots(1,2,figsize=(15,15))\n",
    "axs[0].plot(x,y1e/np.max(np.abs(y1e)))\n",
    "axs[0].plot(x,y1,'--')\n",
    "axs[0].legend(('y1e','y1'))\n",
    "axs[0].set_title('Signal avant filtrage')\n",
    "\n",
    "axs[1].plot(x,y1f/np.max(np.abs(y1f)))\n",
    "axs[1].plot(x,y1,'--')\n",
    "axs[1].legend(('y1f','y1'))\n",
    "axs[1].set_title('Signal après filtrage')\n",
    "plt.show()"
   ]
  },
  {
   "cell_type": "code",
   "execution_count": null,
   "metadata": {
    "deletable": false,
    "editable": false,
    "nbgrader": {
     "cell_type": "code",
     "checksum": "4b3d561e37706faff45e267d5367d264",
     "grade": true,
     "grade_id": "cell-49e3d767430def55",
     "locked": true,
     "points": 1,
     "schema_version": 3,
     "solution": false,
     "task": false
    }
   },
   "outputs": [],
   "source": [
    "# Ce bloc permet de valider votre code. Vous ne devez pas le modifier.  \n",
    "try:\n",
    "    np.testing.assert_equal(y1f.shape,(2000,),err_msg=\"\\033[93m {}\\033[00m\" .format('Test 1 : y1f n\\'a pas la bonne taille.'))\n",
    "    np.testing.assert_array_less(np.mean(np.abs(y1-y1f/np.max(y1f))),5e-2,err_msg=\"\\033[93m {}\\033[00m\" .format('Test 2 : Le filtrage est probablement faux.'))\n",
    "except Exception as e: \n",
    "    print(\"\\033[91m {}\\033[00m\" .format('KO - Au moins un test n\\'est pas validé')) \n",
    "    print('Information sur le test non valide:')\n",
    "    print(e)  \n",
    "    raise e\n",
    "else:\n",
    "    print(\"\\033[92m {}\\033[00m\" .format('Ok - Tous les tests sont validés.')) "
   ]
  },
  {
   "cell_type": "markdown",
   "metadata": {},
   "source": [
    "#### 2.1.2 Filtrage par un filtre sinus cardinal\n",
    "\n",
    "Le filtrage par un sinus cardinal permet de faire un filtre passe-bas qui ne laisse passer que les fréquences inférieures à une fréquence de coupure. On va illustrer ce phénomène ici en combinant deux signaux sinusoïdaux de fréquences différentes puis en appliquant un filtrage avec une fréquence de coupure bien choisie pour ne laisser passer qu'un des deux signaux d'origine."
   ]
  },
  {
   "cell_type": "markdown",
   "metadata": {},
   "source": [
    "Construisez un tableau `y2` correspondant à l'équation $\\sin(2\\pi 2f x)$."
   ]
  },
  {
   "cell_type": "code",
   "execution_count": null,
   "metadata": {
    "deletable": false,
    "nbgrader": {
     "cell_type": "code",
     "checksum": "1443ab5cdc6914d010e3ca27e3e7ea60",
     "grade": false,
     "grade_id": "cell-f96cefc81c9c73e1",
     "locked": false,
     "schema_version": 3,
     "solution": true,
     "task": false
    }
   },
   "outputs": [],
   "source": [
    "# YOUR CODE HERE\n",
    "raise NotImplementedError()"
   ]
  },
  {
   "cell_type": "code",
   "execution_count": null,
   "metadata": {
    "deletable": false,
    "editable": false,
    "nbgrader": {
     "cell_type": "code",
     "checksum": "542a7837fb0137b8b83cb4bf3e8471bc",
     "grade": true,
     "grade_id": "cell-c6769fc91c6f3329",
     "locked": true,
     "points": 1,
     "schema_version": 3,
     "solution": false,
     "task": false
    }
   },
   "outputs": [],
   "source": [
    "# Ce bloc permet de valider votre code. Vous ne devez pas le modifier.  \n",
    "try:\n",
    "    np.testing.assert_equal(y2.shape,(2000,),err_msg=\"\\033[93m {}\\033[00m\" .format('Test 1 : y2 n\\'a pas la bonne taille.'))\n",
    "    np.testing.assert_almost_equal(y2[0],1.22464680e-15,err_msg=\"\\033[93m {}\\033[00m\" .format('Test 2 : La première valeur de y2 est fausse.'))\n",
    "    np.testing.assert_almost_equal(y2[-1],1.22464680e-15,err_msg=\"\\033[93m {}\\033[00m\" .format('Test 3 : La dernière valeur de y2 est fausse.'))\n",
    "    np.testing.assert_almost_equal(np.sum(np.abs(y2)),1272.6026630324313,err_msg=\"\\033[93m {}\\033[00m\" .format('Test 4 : Certaines valeurs de y2 sont fausses.'))\n",
    "except Exception as e: \n",
    "    print(\"\\033[91m {}\\033[00m\" .format('KO - Au moins un test n\\'est pas validé')) \n",
    "    print('Information sur le test non valide:')\n",
    "    print(e)  \n",
    "    raise e\n",
    "else:\n",
    "    print(\"\\033[92m {}\\033[00m\" .format('Ok - Tous les tests sont validés.')) "
   ]
  },
  {
   "cell_type": "markdown",
   "metadata": {},
   "source": [
    "Affichez `y1` et `y2` sur deux figures différentes."
   ]
  },
  {
   "cell_type": "code",
   "execution_count": null,
   "metadata": {
    "deletable": false,
    "nbgrader": {
     "cell_type": "code",
     "checksum": "83b2cfbde878e0ab32ffc8a3165c4982",
     "grade": true,
     "grade_id": "cell-ac485926eae0c3e8",
     "locked": false,
     "points": 1,
     "schema_version": 3,
     "solution": true,
     "task": false
    }
   },
   "outputs": [],
   "source": [
    "# YOUR CODE HERE\n",
    "raise NotImplementedError()"
   ]
  },
  {
   "cell_type": "markdown",
   "metadata": {},
   "source": [
    "Définissez et affichez la fonction $y12=\\frac{y1+y2}{\\max(y1+y2)}$. Ce signal correspond à la combinaison des deux signaux sinusoïdaux `y1` et `y2`."
   ]
  },
  {
   "cell_type": "code",
   "execution_count": null,
   "metadata": {
    "deletable": false,
    "nbgrader": {
     "cell_type": "code",
     "checksum": "0578cf96b1a9547beb9ecf17de586fbd",
     "grade": false,
     "grade_id": "cell-5774778ef9a23ce8",
     "locked": false,
     "schema_version": 3,
     "solution": true,
     "task": false
    }
   },
   "outputs": [],
   "source": [
    "# YOUR CODE HERE\n",
    "raise NotImplementedError()"
   ]
  },
  {
   "cell_type": "code",
   "execution_count": null,
   "metadata": {
    "deletable": false,
    "editable": false,
    "nbgrader": {
     "cell_type": "code",
     "checksum": "17a9983af8ecafb85a1d7dc03dfee623",
     "grade": true,
     "grade_id": "cell-f6ca48d17103a73c",
     "locked": true,
     "points": 1,
     "schema_version": 3,
     "solution": false,
     "task": false
    }
   },
   "outputs": [],
   "source": [
    "# Ce bloc permet de valider votre code. Vous ne devez pas le modifier.  \n",
    "try:\n",
    "    np.testing.assert_equal(y12.shape,(2000,),err_msg=\"\\033[93m {}\\033[00m\" .format('Test 1 : y12 n\\'a pas la bonne taille.'))\n",
    "    np.testing.assert_almost_equal(y12[0],2.0872629244849403e-15,err_msg=\"\\033[93m {}\\033[00m\" .format('Test 2 : La première valeur de y12 est fausse.'))\n",
    "    np.testing.assert_almost_equal(y12[-1],-2.0872629244849403e-15,err_msg=\"\\033[93m {}\\033[00m\" .format('Test 3 : La dernière valeur de y12 est fausse.'))\n",
    "    np.testing.assert_almost_equal(np.sum(np.abs(y12)),903.748871217134,err_msg=\"\\033[93m {}\\033[00m\" .format('Test 4 : Certaines valeurs de y12 sont fausses.'))\n",
    "except Exception as e: \n",
    "    print(\"\\033[91m {}\\033[00m\" .format('KO - Au moins un test n\\'est pas validé')) \n",
    "    print('Information sur le test non valide:')\n",
    "    print(e)  \n",
    "    raise e\n",
    "else:\n",
    "    print(\"\\033[92m {}\\033[00m\" .format('Ok - Tous les tests sont validés.')) "
   ]
  },
  {
   "cell_type": "markdown",
   "metadata": {},
   "source": [
    "Construisez un filtre `filtreSinc` défini par:\n",
    "\t$$\\text{sinc}(2f_s x) $$\n",
    "\t$\\text{sinc}$ est le sinus cardinal défini dans numpy. Vous pouvez fixer la fréquence $f_s$ à $1.5$. La taille de ce vecteur sera la même que `x`."
   ]
  },
  {
   "cell_type": "code",
   "execution_count": null,
   "metadata": {
    "deletable": false,
    "nbgrader": {
     "cell_type": "code",
     "checksum": "18cc8860f32b346d441ce18271f97ff7",
     "grade": false,
     "grade_id": "cell-1320b60c70f64fb1",
     "locked": false,
     "schema_version": 3,
     "solution": true,
     "task": false
    }
   },
   "outputs": [],
   "source": [
    "# YOUR CODE HERE\n",
    "raise NotImplementedError()"
   ]
  },
  {
   "cell_type": "code",
   "execution_count": null,
   "metadata": {
    "deletable": false,
    "editable": false,
    "nbgrader": {
     "cell_type": "code",
     "checksum": "481d9da7390bc02186c62276eb3fc22f",
     "grade": true,
     "grade_id": "cell-c9e5a86edf3b1020",
     "locked": true,
     "points": 1,
     "schema_version": 3,
     "solution": false,
     "task": false
    }
   },
   "outputs": [],
   "source": [
    "# Ce bloc permet de valider votre code. Vous ne devez pas le modifier.  \n",
    "try:\n",
    "    np.testing.assert_equal(filtreSinc.shape,x.shape,err_msg=\"\\033[93m {}\\033[00m\" .format('Test 1 : filtreSinc n\\'a pas la bonne taille.'))\n",
    "    np.testing.assert_almost_equal(filtreSinc[0],1.1437264410803267e-16,err_msg=\"\\033[93m {}\\033[00m\" .format('Test 2 : La première valeur de filtreSinc est fausse.'))\n",
    "    np.testing.assert_almost_equal(filtreSinc[1000],0.9999073824352694,err_msg=\"\\033[93m {}\\033[00m\" .format('Test 3 : La valeur du milieu de filtreSinc est fausse.'))\n",
    "    np.testing.assert_almost_equal(np.sum(np.abs(filtreSinc)),151.25737208804696,err_msg=\"\\033[93m {}\\033[00m\" .format('Test 4 : Certaines valeurs de y12 sont fausses.'))\n",
    "except Exception as e: \n",
    "    print(\"\\033[91m {}\\033[00m\" .format('KO - Au moins un test n\\'est pas validé')) \n",
    "    print('Information sur le test non valide:')\n",
    "    print(e)  \n",
    "    raise e\n",
    "else:\n",
    "    print(\"\\033[92m {}\\033[00m\" .format('Ok - Tous les tests sont validés.')) "
   ]
  },
  {
   "cell_type": "markdown",
   "metadata": {},
   "source": [
    "Affichez dans une même figure les filtres `filtrePorte` et `filtreSinc`."
   ]
  },
  {
   "cell_type": "code",
   "execution_count": null,
   "metadata": {
    "deletable": false,
    "nbgrader": {
     "cell_type": "code",
     "checksum": "3976cc7be7ebe8cc2859f1e1042eb369",
     "grade": true,
     "grade_id": "cell-6f6b388a49cf0d3b",
     "locked": false,
     "points": 1,
     "schema_version": 3,
     "solution": true,
     "task": false
    }
   },
   "outputs": [],
   "source": [
    "# YOUR CODE HERE\n",
    "raise NotImplementedError()"
   ]
  },
  {
   "cell_type": "markdown",
   "metadata": {},
   "source": [
    "En utilisant la fonction `sc.signal.convolve` de scipy (avec le paramètre `'same'`), convoluez le signal `y12` avec `filtreSinc`.  Divisez le résultat par la valeur maximale  et affichez le sur une figure. Que constatez-vous par rapport au signal `y1` ? "
   ]
  },
  {
   "cell_type": "code",
   "execution_count": null,
   "metadata": {
    "deletable": false,
    "nbgrader": {
     "cell_type": "code",
     "checksum": "121778c159bb90c1fd889af20c430ffc",
     "grade": true,
     "grade_id": "cell-366b3924d291cc5c",
     "locked": false,
     "points": 1,
     "schema_version": 3,
     "solution": true,
     "task": false
    }
   },
   "outputs": [],
   "source": [
    "# YOUR CODE HERE\n",
    "raise NotImplementedError()"
   ]
  },
  {
   "cell_type": "markdown",
   "metadata": {},
   "source": [
    "### 2.2 Rotation\n",
    "\n",
    "Nous allons dans cette partie étudier comment faire des rotations de points dans le plan 2D.\n",
    "Cela nous sera utile pour construire le flocon de Koch dans la suite du TP."
   ]
  },
  {
   "cell_type": "markdown",
   "metadata": {},
   "source": [
    "Déclarez un tableau `x` de taille 2 par 2 contenant les points de coordonnées (0,0) et (1,1). Une ligne du tableau correspondra à un point."
   ]
  },
  {
   "cell_type": "code",
   "execution_count": null,
   "metadata": {
    "deletable": false,
    "nbgrader": {
     "cell_type": "code",
     "checksum": "2ce88bde98d185abbac0d49ebf157671",
     "grade": false,
     "grade_id": "cell-421c76d456d9816a",
     "locked": false,
     "schema_version": 3,
     "solution": true,
     "task": false
    }
   },
   "outputs": [],
   "source": [
    "# YOUR CODE HERE\n",
    "raise NotImplementedError()"
   ]
  },
  {
   "cell_type": "code",
   "execution_count": null,
   "metadata": {
    "deletable": false,
    "editable": false,
    "nbgrader": {
     "cell_type": "code",
     "checksum": "80b478db0a347ce531a76c5f07a5c248",
     "grade": true,
     "grade_id": "cell-ae0ac53c389223d7",
     "locked": true,
     "points": 1,
     "schema_version": 3,
     "solution": false,
     "task": false
    }
   },
   "outputs": [],
   "source": [
    "# Ce bloc permet de valider votre code. Vous ne devez pas le modifier.  \n",
    "try:\n",
    "    np.testing.assert_equal(x.shape,(2,2),err_msg=\"\\033[93m {}\\033[00m\" .format('Test 1 : x n\\'a pas la bonne taille.'))\n",
    "    np.testing.assert_equal(x.reshape(-1),[0,0,1,1],err_msg=\"\\033[93m {}\\033[00m\" .format('Test 2 : Les valeurs de x ne sont pas correctes.'))\n",
    "except Exception as e: \n",
    "    print(\"\\033[91m {}\\033[00m\" .format('KO - Au moins un test n\\'est pas validé')) \n",
    "    print('Information sur le test non valide:')\n",
    "    print(e)  \n",
    "    raise e\n",
    "else:\n",
    "    print(\"\\033[92m {}\\033[00m\" .format('Ok - Tous les tests sont validés.')) "
   ]
  },
  {
   "cell_type": "markdown",
   "metadata": {},
   "source": [
    "Affichez les deux points précédents reliés par une droite."
   ]
  },
  {
   "cell_type": "code",
   "execution_count": null,
   "metadata": {
    "deletable": false,
    "nbgrader": {
     "cell_type": "code",
     "checksum": "556a9ccd7808910b95097712610abe61",
     "grade": true,
     "grade_id": "cell-4d35776996387b97",
     "locked": false,
     "points": 1,
     "schema_version": 3,
     "solution": true,
     "task": false
    }
   },
   "outputs": [],
   "source": [
    "# YOUR CODE HERE\n",
    "raise NotImplementedError()"
   ]
  },
  {
   "cell_type": "markdown",
   "metadata": {},
   "source": [
    "Définissez une fonction `get_rotation_matrix` qui prend en argument un angle `t` et qui retourne la matrice $\\left[ \\begin{array}{cc}\\cos(t)&\\sin(t)\\\\\n",
    "-sin(t)&cos(t)\n",
    "\\end{array} \\right]$."
   ]
  },
  {
   "cell_type": "code",
   "execution_count": null,
   "metadata": {
    "deletable": false,
    "nbgrader": {
     "cell_type": "code",
     "checksum": "115a1290a03691f46e0eaa39c9b7af94",
     "grade": false,
     "grade_id": "cell-72894e24d2b6479e",
     "locked": false,
     "schema_version": 3,
     "solution": true,
     "task": false
    }
   },
   "outputs": [],
   "source": [
    "def get_rotation_matrix(t):\n",
    "    # YOUR CODE HERE\n",
    "    raise NotImplementedError()"
   ]
  },
  {
   "cell_type": "code",
   "execution_count": null,
   "metadata": {
    "deletable": false,
    "editable": false,
    "nbgrader": {
     "cell_type": "code",
     "checksum": "0fd9bc9bcb86601e90d7610147a3a79e",
     "grade": true,
     "grade_id": "cell-982f1dfbb1f9205f",
     "locked": true,
     "points": 1,
     "schema_version": 3,
     "solution": false,
     "task": false
    }
   },
   "outputs": [],
   "source": [
    "# Ce bloc permet de valider votre code. Vous ne devez pas le modifier.  \n",
    "try:\n",
    "    _x_ = np.random.rand(int(1e3))*2*np.pi\n",
    "    for i in range(len(_x_)):\n",
    "        tmp = get_rotation_matrix(_x_[i])\n",
    "        tmp2 = tmp**2\n",
    "        np.testing.assert_almost_equal(np.sum(np.diag(tmp2))+np.sum(np.diag(tmp2[::-1,:])),2,err_msg=\"\\033[93m {}\\033[00m\" .format('Test 1 : get_rotation_matrix ne retourne pas une matrice de rotation.'))\n",
    "        np.testing.assert_almost_equal(np.prod(np.diag(tmp))-np.prod(np.diag(tmp[::-1,:])),1,err_msg=\"\\033[93m {}\\033[00m\" .format('Test 2 : get_rotation_matrix ne retourne pas une matrice de rotation.'))\n",
    "except Exception as e: \n",
    "    print(\"\\033[91m {}\\033[00m\" .format('KO - Au moins un test n\\'est pas validé')) \n",
    "    print('Information sur le test non valide:')\n",
    "    print(e)  \n",
    "    raise e\n",
    "else:\n",
    "    print(\"\\033[92m {}\\033[00m\" .format('Ok - Tous les tests sont validés.')) \n",
    "\n",
    "del _x_,tmp,tmp2"
   ]
  },
  {
   "cell_type": "markdown",
   "metadata": {},
   "source": [
    "Faire la rotation de centre (0,0) d'un point `a` par un angle $t$ revient à multiplier le vecteur ligne contenant les coordonnées de `a` par la matrice de rotation de la question précédente. Attention, on parle ici de produit matriciel et non d'un produit terme à terme. \n",
    "\n",
    "En utilisant la fonction `get_rotation_matrix`, faites une rotation de $\\dfrac{\\pi}{3}$ des points (0,0) et (1,1) que vous aviez stockés dans la variable `x`. Vous stockerez le résultat dans une variable `xr`."
   ]
  },
  {
   "cell_type": "code",
   "execution_count": null,
   "metadata": {
    "deletable": false,
    "nbgrader": {
     "cell_type": "code",
     "checksum": "53120a8f5fbe30f2c8b72767d41fc9bf",
     "grade": false,
     "grade_id": "cell-341cf35b2f1c8e4f",
     "locked": false,
     "schema_version": 3,
     "solution": true,
     "task": false
    }
   },
   "outputs": [],
   "source": [
    "# YOUR CODE HERE\n",
    "raise NotImplementedError()"
   ]
  },
  {
   "cell_type": "code",
   "execution_count": null,
   "metadata": {
    "deletable": false,
    "editable": false,
    "nbgrader": {
     "cell_type": "code",
     "checksum": "f0d58ce059cc18ce386306df0b30b8f7",
     "grade": true,
     "grade_id": "cell-ca2745ff2a566470",
     "locked": true,
     "points": 1,
     "schema_version": 3,
     "solution": false,
     "task": false
    }
   },
   "outputs": [],
   "source": [
    "# Ce bloc permet de valider votre code. Vous ne devez pas le modifier.  \n",
    "try:\n",
    "    np.testing.assert_almost_equal(xr,np.array([[0,0],[-0.3660254,  1.3660254]]),err_msg=\"\\033[93m {}\\033[00m\" .format('Test 1 : les points de xr ne sont pas corrects.'))\n",
    "except Exception as e: \n",
    "    print(\"\\033[91m {}\\033[00m\" .format('KO - Au moins un test n\\'est pas validé')) \n",
    "    print('Information sur le test non valide:')\n",
    "    print(e)  \n",
    "    raise e\n",
    "else:\n",
    "    print(\"\\033[92m {}\\033[00m\" .format('Ok - Tous les tests sont validés.')) "
   ]
  },
  {
   "cell_type": "markdown",
   "metadata": {},
   "source": [
    "Affichez le segment allant du point (0,0) au point (1,1) ainsi que la rotation de ce segment d'un angle de $\\dfrac{\\pi}{3}$."
   ]
  },
  {
   "cell_type": "code",
   "execution_count": null,
   "metadata": {
    "deletable": false,
    "nbgrader": {
     "cell_type": "code",
     "checksum": "287a38e362cf91080b1e1b4723d93187",
     "grade": true,
     "grade_id": "cell-97ec51db8f7a4944",
     "locked": false,
     "points": 1,
     "schema_version": 3,
     "solution": true,
     "task": false
    }
   },
   "outputs": [],
   "source": [
    "# YOUR CODE HERE\n",
    "raise NotImplementedError()"
   ]
  },
  {
   "cell_type": "markdown",
   "metadata": {},
   "source": [
    "En utilisant une boucle `for` affichez 10 rotations successives partant du segment allant du point (0,0) au point (1,1) tel que les angles entre chaque rotation soient les mêmes et que la dernière rotation vous ramène sur le segment initial."
   ]
  },
  {
   "cell_type": "code",
   "execution_count": null,
   "metadata": {
    "deletable": false,
    "nbgrader": {
     "cell_type": "code",
     "checksum": "b89a75c8d9e3310e68e962e717524a65",
     "grade": true,
     "grade_id": "cell-d20277a2f6c3fc84",
     "locked": false,
     "points": 1,
     "schema_version": 3,
     "solution": true,
     "task": false
    }
   },
   "outputs": [],
   "source": [
    "# YOUR CODE HERE\n",
    "raise NotImplementedError()"
   ]
  },
  {
   "cell_type": "markdown",
   "metadata": {},
   "source": [
    "Dans le cas où la rotation n'est pas centrée sur l'origine mais correspond à un centre de coordonnée `c`, il faut calculer $(x-c)R+c$ au lieu de $xR$. Faites une rotation du segment (0,0)-(1,1) d'un angle de $\\dfrac{\\pi}{3}$ par rapport au centre de coordonnée (2,1). Vous placerez le résultat dans la variable `xr2`."
   ]
  },
  {
   "cell_type": "code",
   "execution_count": null,
   "metadata": {
    "deletable": false,
    "nbgrader": {
     "cell_type": "code",
     "checksum": "678e2ee4093c5d9fb06b4450d1274383",
     "grade": false,
     "grade_id": "cell-72e2f6548898b8e3",
     "locked": false,
     "schema_version": 3,
     "solution": true,
     "task": false
    }
   },
   "outputs": [],
   "source": [
    "# YOUR CODE HERE\n",
    "raise NotImplementedError()"
   ]
  },
  {
   "cell_type": "code",
   "execution_count": null,
   "metadata": {
    "deletable": false,
    "editable": false,
    "nbgrader": {
     "cell_type": "code",
     "checksum": "54e7c7c2c0e099a59331e54377ac1c43",
     "grade": true,
     "grade_id": "cell-7740b86a802e0cfc",
     "locked": true,
     "points": 1,
     "schema_version": 3,
     "solution": false,
     "task": false
    }
   },
   "outputs": [],
   "source": [
    "# Ce bloc permet de valider votre code. Vous ne devez pas le modifier.  \n",
    "try:\n",
    "    np.testing.assert_almost_equal(xr2,np.array([[ 1.8660254, -1.2320508],[ 1.5      ,  0.1339746]]),err_msg=\"\\033[93m {}\\033[00m\" .format('Test 1 : les points de xr2 ne sont pas corrects.'))\n",
    "except Exception as e: \n",
    "    print(\"\\033[91m {}\\033[00m\" .format('KO - Au moins un test n\\'est pas validé')) \n",
    "    print('Information sur le test non valide:')\n",
    "    print(e)  \n",
    "    raise e\n",
    "else:\n",
    "    print(\"\\033[92m {}\\033[00m\" .format('Ok - Tous les tests sont validés.')) "
   ]
  },
  {
   "cell_type": "markdown",
   "metadata": {},
   "source": [
    "### 2.2 - Division en trois d'un segment"
   ]
  },
  {
   "cell_type": "markdown",
   "metadata": {},
   "source": [
    "Soit un segment défini par deux points $p_1$ et $p_2$ alors le point se trouvant à 1/3 du segment $[p_1,p_2]$ est le point $p_{1/3}=p_1+\\dfrac{p_2-p_1}{3} = 2\\dfrac{p_1}{3} + \\dfrac{p_2}{3}$. En utilisant `x` (qui stocke les points $(0,0)$ et $(1,1)$), calculez ce point pour le segment $(0,0)-(1,1)$. Vous nommerez le résultat `x1_3`."
   ]
  },
  {
   "cell_type": "code",
   "execution_count": null,
   "metadata": {
    "deletable": false,
    "nbgrader": {
     "cell_type": "code",
     "checksum": "497dec13171972abbd1c8aab61aec5ef",
     "grade": false,
     "grade_id": "cell-965679a7b27c7961",
     "locked": false,
     "schema_version": 3,
     "solution": true,
     "task": false
    }
   },
   "outputs": [],
   "source": [
    "# YOUR CODE HERE\n",
    "raise NotImplementedError()"
   ]
  },
  {
   "cell_type": "code",
   "execution_count": null,
   "metadata": {
    "deletable": false,
    "editable": false,
    "nbgrader": {
     "cell_type": "code",
     "checksum": "ceb70342d80a0c5531a65b8a0c8a2ef7",
     "grade": true,
     "grade_id": "cell-1e14de1c4b2bfdd7",
     "locked": true,
     "points": 1,
     "schema_version": 3,
     "solution": false,
     "task": false
    }
   },
   "outputs": [],
   "source": [
    "# Ce bloc permet de valider votre code. Vous ne devez pas le modifier.  \n",
    "try:\n",
    "    np.testing.assert_almost_equal(x1_3,np.ones(2)/3,err_msg=\"\\033[93m {}\\033[00m\" .format('Test 1 : le point de x1_3 n\\'est pas correct.'))\n",
    "except Exception as e: \n",
    "    print(\"\\033[91m {}\\033[00m\" .format('KO - Au moins un test n\\'est pas validé')) \n",
    "    print('Information sur le test non valide:')\n",
    "    print(e)  \n",
    "    raise e\n",
    "else:\n",
    "    print(\"\\033[92m {}\\033[00m\" .format('Ok - Tous les tests sont validés.')) "
   ]
  },
  {
   "cell_type": "markdown",
   "metadata": {},
   "source": [
    "Faites de même pour le point se trouvant au 2/3 du segment que vous nommerez `x2_3`. "
   ]
  },
  {
   "cell_type": "code",
   "execution_count": null,
   "metadata": {
    "deletable": false,
    "nbgrader": {
     "cell_type": "code",
     "checksum": "e426a5ed5da44d4ae6a169cbd0771401",
     "grade": false,
     "grade_id": "cell-22b7c41aebb05ce2",
     "locked": false,
     "schema_version": 3,
     "solution": true,
     "task": false
    }
   },
   "outputs": [],
   "source": [
    "# YOUR CODE HERE\n",
    "raise NotImplementedError()"
   ]
  },
  {
   "cell_type": "code",
   "execution_count": null,
   "metadata": {
    "deletable": false,
    "editable": false,
    "nbgrader": {
     "cell_type": "code",
     "checksum": "c6b2ee04c28b30495b306d965f1bd370",
     "grade": true,
     "grade_id": "cell-734eda2ce93cacac",
     "locked": true,
     "points": 1,
     "schema_version": 3,
     "solution": false,
     "task": false
    }
   },
   "outputs": [],
   "source": [
    "# Ce bloc permet de valider votre code. Vous ne devez pas le modifier.  \n",
    "try:\n",
    "    np.testing.assert_almost_equal(x2_3,np.ones(2)*2/3,err_msg=\"\\033[93m {}\\033[00m\" .format('Test 1 : le point de x2_3 n\\'est pas correct.'))\n",
    "except Exception as e: \n",
    "    print(\"\\033[91m {}\\033[00m\" .format('KO - Au moins un test n\\'est pas validé')) \n",
    "    print('Information sur le test non valide:')\n",
    "    print(e)  \n",
    "    raise e\n",
    "else:\n",
    "    print(\"\\033[92m {}\\033[00m\" .format('Ok - Tous les tests sont validés.')) "
   ]
  },
  {
   "cell_type": "markdown",
   "metadata": {},
   "source": [
    "En utilisant un opérateur de concaténation sur les lignes, concaténez la valeur d'un tableau ligne contenant (0,0) avec `x1_3`,`x2_3` et la dernière ligne de `x` afin d'avoir une matrice de taille 4 par 2 que vous nommerez `x_end`."
   ]
  },
  {
   "cell_type": "code",
   "execution_count": null,
   "metadata": {
    "deletable": false,
    "nbgrader": {
     "cell_type": "code",
     "checksum": "f54f04ed4e8dfcbf58fd54cc4b67be0d",
     "grade": false,
     "grade_id": "cell-29da42612ab4727a",
     "locked": false,
     "schema_version": 3,
     "solution": true,
     "task": false
    }
   },
   "outputs": [],
   "source": [
    "# YOUR CODE HERE\n",
    "raise NotImplementedError()"
   ]
  },
  {
   "cell_type": "code",
   "execution_count": null,
   "metadata": {
    "deletable": false,
    "editable": false,
    "nbgrader": {
     "cell_type": "code",
     "checksum": "5195569f4744da07b40a41bc3a6ebc70",
     "grade": true,
     "grade_id": "cell-dae096cd197c9c9e",
     "locked": true,
     "points": 1,
     "schema_version": 3,
     "solution": false,
     "task": false
    }
   },
   "outputs": [],
   "source": [
    "# Ce bloc permet de valider votre code. Vous ne devez pas le modifier.  \n",
    "try:\n",
    "    np.testing.assert_equal(x_end.shape,(4,2),err_msg=\"\\033[93m {}\\033[00m\" .format('Test 1 : Les dimensions de x_end ne sont pas correctes.'))\n",
    "    np.testing.assert_almost_equal(x_end[0,:],np.zeros(2),err_msg=\"\\033[93m {}\\033[00m\" .format('Test 2 : Le premier point doit être le point (0,0).'))\n",
    "    np.testing.assert_almost_equal(x_end[1,:],x1_3,err_msg=\"\\033[93m {}\\033[00m\" .format('Test 3 : Le deuxième point doit être le point x1_3.'))\n",
    "    np.testing.assert_almost_equal(x_end[2,:],x2_3,err_msg=\"\\033[93m {}\\033[00m\" .format('Test 4 : Le troisième point doit être le point x2_3.'))\n",
    "    np.testing.assert_almost_equal(x_end[3,:],np.ones(2),err_msg=\"\\033[93m {}\\033[00m\" .format('Test 5 : Le dernier point doit être le point (1,1).'))\n",
    "except Exception as e: \n",
    "    print(\"\\033[91m {}\\033[00m\" .format('KO - Au moins un test n\\'est pas validé')) \n",
    "    print('Information sur le test non valide:')\n",
    "    print(e)  \n",
    "    raise e\n",
    "else:\n",
    "    print(\"\\033[92m {}\\033[00m\" .format('Ok - Tous les tests sont validés.')) "
   ]
  },
  {
   "cell_type": "markdown",
   "metadata": {},
   "source": [
    "Affichez les points de la question précédente"
   ]
  },
  {
   "cell_type": "code",
   "execution_count": null,
   "metadata": {
    "deletable": false,
    "nbgrader": {
     "cell_type": "code",
     "checksum": "fcc5c02b9923f2c0b939ebf03ee23064",
     "grade": true,
     "grade_id": "cell-9408016ad9bac7f0",
     "locked": false,
     "points": 1,
     "schema_version": 3,
     "solution": true,
     "task": false
    }
   },
   "outputs": [],
   "source": [
    "# YOUR CODE HERE\n",
    "raise NotImplementedError()"
   ]
  },
  {
   "cell_type": "markdown",
   "metadata": {},
   "source": [
    "## 3 - Construction d'un flocon de Koch"
   ]
  },
  {
   "cell_type": "markdown",
   "metadata": {},
   "source": [
    "Le flocon de Koch est une des premières figures fractales de l'histoire. Il a été proposé par le mathématicien suédois Helge von Koch en 1904. \n",
    "\n",
    "Sa construction consiste à répéter un processus itératif simple afin de construire une certaine figure. À chaque itération, on applique à tous les segments les opérations suivantes:\n",
    "- on découpe les segments en trois parties égales\n",
    "- on fait une rotation de -60° de la partie centrale par rapport à son sommet gauche.\n",
    "- on relie le point créé par la rotation et le point à 2/3 du segment.\n",
    "\n",
    "![Etape1Flocon](data:image/png;base64,iVBORw0KGgoAAAANSUhEUgAABI0AAAE/CAYAAADL8jPtAAAABHNCSVQICAgIfAhkiAAAAAlwSFlzAAALEgAACxIB0t1+/AAAADl0RVh0U29mdHdhcmUAbWF0cGxvdGxpYiB2ZXJzaW9uIDIuMi4zLCBodHRwOi8vbWF0cGxvdGxpYi5vcmcvIxREBQAAIABJREFUeJzt3XmcbGV9J/7PAygoIO4aFKmfu2KMy7hFjSRxpTQ6ZoxRx4iJCy4jICrlflHR0oDgkkRj+KnRcWEm7hWjY9y3aBxj3GPEQlBURFRQ3M/88TwNdfv0du/t29Xcfr9fr3p1d52qc7516pynTn2e55wuXdcFAAAAAGbtNe8CAAAAANh8hEYAAAAA9AiNAAAAAOgRGgEAAADQIzQCAAAAoEdoBAAAAECP0IhNpZTywVLKI9ZpXtNSyl2XuP/JpZTXlVJs/7DOSil/VUo5cd51bFWllAtLKdeddx3sfqWUh5RS3rtBy+pKKdffiGXtDjt7bFFKGbTXvs/uqGtXlVKeVkr5u3nXsZ7Wc52XUg4vpZy9HnXB7laqV5dSzi+lfKqUcudSylfXad5rbgPtNyzFl+ZNqpRyp1LKx0spPyql/KCU8rFSym3mXdeOKKW8ppTyvHnXMauUcq8kt05yZNd1v9mNy7lUH2DDgha+XlRKuaCU8sPWLh21VOhaSnlUkl90Xff0OZR6qbce7UbXdQd0XXfGetXE8mb2jQtLKd9pn3kHrPG5R5ZSProDy+p9ke667n92XXf3nal93kopR5dSvlFK+Ukp5cullBvOTHtwKeXMNu1tpZQrz0y7XSnlK6WUL5VS/st8qp+Ppb7IdV33/K7r1qWjbT3s6HbN7uOL/65b1MYv3F7epu1yG76EOyW5W5Jrd113267rPtJ13Y128WWwA+w3yxMabUKllCskeVeSlyW5cpJrJTkhyc/nWdeeoOu6d3dd96dd1/16d8x/s/ZGwi66T9d1ByY5NMk4yfFJTlv8oK7r/rbrumM3uritQvuyKd2n67oDktwiyS2TPHXO9Wx6rbf7L5IMkxyQ5N5Jvt+mHZbklUkemuQaSX6a5K9nnn5ie/wfJXn+xlU9X3vSvl9K2XveNcAOuE/rjFm4PX43LuvQJNOu636yG5cBO0VotDndMEm6rntj13W/7rruoq7r3tt13b8vPKCU8uetd+78Usp7SimHzky7eynlq22U0l+XUj60MCSxJeMfK6Wc0kYNnFFK+d12/1mllO+VUh42M699SyknlVK+WUr5binlFaWUy7Vph5dSzi6lHNeed04p5eFt2qOSPCTJU1oy/86lXmgp5W6t1/BHLb0vi6Yv+zqXmNdDW+/keaWUpy+atlcpZVRK+XqbfvpC7+VM+v+oUsq32+t40sxzb1tK+URbX+eUUl5eSrnszPSulPK4UsrXknytlPLhNulz7bU/cLma4dKk67ofdV33jiQPTPKwUsrNkpXbiTb9vqWUfyul/Ljtg/ds9x9cSnlHqaMp/7OU8siZ52w3UnFx70/rAXxqG3FwfqlDuvdr065USnlXKeXcNu1dpZRrzzz3/yulfLjU0VPvK/WUutfPTL99qSOqflhK+Vwp5fDl1kl7Df/QlvWNUsoTZqZta23N37dlfbEsMzpiqXZjpo09vpTynSSvbo99ZFtfP2jr7+CZ+Vw8WqmUckRbPxeUUr41266xvrqu+06S96SGR0mSUspB7b0/t302PaN9Ft0kySuS3KG91z9sjx+WUj7b9pOzSinbZhaxsH38sD3nDmVRT3epn+WfLvXz9NOllN+dmfbBUspzS/38v6CU8t5SylWXez2lnsZ9TvtM/PNF01bc31dS6gjFZyc5tuu6L3XV17uu+0F7yEOSvLPrug93XXdhkmcmuX8p5cA2fe9226f9XG4563Zsseh5D2/Pu6DU46dHr/DYheOtl7c6vlJK+cO1zGuJff+NSd6d5OByyYiHg1sbs7Nt1yGllLe07fO8tp5WXT+tjTmqlPK1tpy/KtVy2/VrSil/U0r5x1LKT5L8/irb+uI6DyqlnNa2x2+VUp5XlgmeSimXa8s7v5TypSS3WTR9u9GcZYUR8aWU65d6/PyjUsr3Sylvnpl241LK/ym1Df5qKeVPZqZdpZTyzvbaPt3qnd1Pu1LKY9v6u6Dtl9dr79uPS/3MmD3GvHepn58LI31vPjNtWkp5Uinl31udby6l7FdK2T9LbC/LrWN2zArb+g614Yvm+RdJ/m5mnieUpY97eu93m7bicc8qr8d+Y79ZXdd1bpvsluQKSc5L8tok90pypUXT75vkP5PcJPXA6RlJPt6mXTXJj5Pcv007OskvkzyiTT8yya+SPDz1gOt5Sb6Z5K+S7Jvk7kkuSHJAe/wpSd6ROuLpwCTvTPKCNu3wNq/nJLlMkiNSewWv1Ka/JsnzVnidV23L+m/t+ce2+T1itde5xLxumuTCJL/XXseL27zu2qYfneSTSa7dpr8yyRvbtEGSLvWgbP8kv53k3Jnn3jrJ7VsNgyRfTnLMzLK7JP+nraPLzdx3/XlvS25uu3pLMl3YFxbd/80kj2m/r9RO3DbJj1KHXO+VOnLyxm3ah1NHEeyX+mX73CR/0KZt13609ubsRXV9IckhbbkfW3h8kqsk+eMkl2/1/K8kb5t57ieSnJTksqnDwX+c5PVt2rVS298jWr13a39fbYl1sFeSzyR5VpvXdZOckeQebfq2JD9r89o7yQuSfHKFdb1du5FL2tgXtnbrckn+IHVUxq3afS9L8uGl5pHknCR3br9fKcmt5r097Um32X0j9bPl80leMjP975O8vW2DgyT/keQv2rQjk3x00fwOT/382SvJzZN8N8n92rRBe2/3mXn8xfNo+8D5qSN09knyoPb3Vdr0Dyb5emqn1OXa3+NlXtc927JvlvqZ+IZF29Wy+/sa1tl12ryOTnJWkm+kjqTeq01/e5LjFz3nwiS3br/fOfW44KtJ7rDMMtbz2GK79Z46Oup6qSHUXVKPeZbcr3LJ8daxrY4HpraFV15tXll63z88M21ge9y27FzbtXeSz7X3cv/UNvhOa1k/bX28K8kV2/t5bpJ7rrBdv6a97ju2uvbLDmzrSd6aesy2f5KrJ/lUkkcvs87HST6Sum0ekvoZcfai2q+/qLYlj1NTjwmfPlPzwvrZP3XbfXhbP7dMbZNv2qa/qd0un3psetbsOmk1vD31WP+w1LMI/jn18+OgJF9K8rD22Fsm+V6S27X37GGp7c6+M23Qp5Ic3F7zl5McNbMNnb3Ua3Pb8TZ+mf17l9rw1ea5+D1c5f1e7bjng2ltoP3GfrNT+8O8C3Bb5o2pH9avSXJ26oHDO5Jco017d9qBZ/t7r9SDjUOT/FmST8xMK23Hmw2NvjYz/bfbjniNmfvOS/0CV5L8JMn1ZqbdIck32u+HJ7ko2x/Efi/J7dvvyzYqbfqfZeYLVFve2TO1Lvs6l5jXs5K8aebv/ZP8Ipcc0H85yR/OTP+t1DBtIQjq0r7ItukvSnLaMnUfk+StM393aV90F90nNHK71N+yfGj0ydQDg9XaiVcmOWWJ5x+S5NdJDpy57wVJXtN+3679WPxB3uo6aubvI5J8fZnXcIsk57ffr5Papl5+Zvrrc8kXr+OTvG7R89+TdjCy6P7bJfnmovuemuTV7fdtSd43M+2mSS5aYV0vPjA7vLVj+83cd1qSF838fUBrywaL55Ea7D06yRXmvR3tibe2DV6YGlB0qQewV2zT9m7v3U1nHv/oJB9svx+ZRV84lpj/qQv7TlYPjR6a5FOLnv+J1Ov3JfULwzNmpj02yT8ts9z/PzOBUmrQ1CW5flbZ39ewzn63zWuSGjoMUsO0R7bp/zy7X7f7vpXk8B14X9bz2KK33hdNf1uSo5eZdmSSbycpM/d9KslDV5vXMvv+4Vk5NNqRtusOqWFP73Wttn7a+rjTzPTTk4yW265T2/K/35ltPfUUxZ+ndci16Q9K8oFl5nNGWoDV/n5Udv7L798n+dvU68vM3v/AJB9ZdN8rU0fQ7Z3aHt9oZtrz0v/ye8eZvz+TmaA0yclJTm2//02S5y5a1leT3KX9Pk3y32emvSjJK5bbXtx27JZL2vgfztwW2qretr7E81dsw5d4/HbzXPwervR+LzGvi4972t8fzPKhkf3GfrPqzelpm1TXdV/uuu7Iruuundrbd3Bq45PUcOglbcjdD5P8IPWg6FrtcWfNzKdLPVia9d2Z3y9qj1t83wFJrpaa+H5mZln/1O5fcF7Xdb+a+fun7blrsVStZ81MX+l1rjavn6SGX7PzeuvMvL6c+oX1GjOPmV32mW2eKaXcsA3z/E4p5cep11FYPKz/rMDWcq3UfXK1duKQ1BEOix2c5Add110wc9+ZWXr/Xs5y++zlSymvLPWUoB+njmi6YqmnNCws96fLzOfQJA9YeC3t9dwpNWhe7NDUYcyzj31atm9XvjPz+0+T7Fd27Pok53Zd97OZvw9urzVJ0tVTeM7L0uvtj1PDtDPbcPE7LPEYds39unq9r8OT3DiXfDZcNXV0yZkzj11x+y71Is8faKcX/CjJUel/1ixnu+1imeUt3haX+6ze7vN00XzXclxwsVJPyVwY5n/ntGOO1ODzh13XTVO/OBzR7r8wtSd51hVSg7m1Ws9ji8Wv516llE+20yt+2Ope6T36Vlv+gtl2arV5Ld73V7MjbdchSc5cdPw2O5/V1s9at6UF2x0j7cC2fmjqfnTOTD2vTB1xtJSVtt0d9ZTU1/2pth0vnKZ5aJLbLVrPD0lyzdT9YJ9FNSx1fLj4mHupY/CFZR23aFmHpG1DzY6+F+yY+3Vdd8WZ26uWe+AutuFrteT7vcpxz2rsN/abVQmNLgW6rvtKaqp7s3bXWalDc2cbsct1Xffx1NMRZq/dUWb/3kHfT90JD5tZzkFdvejnmkpfZfo5qTtxkotrPWRm+kqvc7V5XT51qObsvO61aF77dV33rZnHzC77Oqk9hElNrL+S5AZd110h9UvhdtdHWMNrhT1Gqf/J8VpJPprV24mzUk/BWOzbSa5cLrlWSVL3u4V98iepX04XXHOJeSy3zx6X5EZJbtf22d9bKD21rbhyayOWms9Zqb31s23F/l3XjZdY/lmpIyxmH3tg13VHLPHYnbW4bfl26gFRkqSdg3+VXLLeLnli132667r7pn7BelvqiAB2g67rPpT6OX1Su+v7qT2nh848bHb7Xuoz4w2po4oP6bruoNRrZpQVHj9ru+1iieXtiO0+T9t8FuzQcUHXdYd1l1xA9iOpvb2/yPavZ/b3Lyb5nYU/SinXTT096z92tv5dPLa4WCll3yT/kPoeX6Pruism+cf0jwdmXastf8F1knx7jfNa/J6vtg3saNt1nWUC7J1aP6vUuPj+lbb1xbX8PMlVZ2q5Qtd1hy2znJW23aR+OVztc6UW3HXf6brukV3XHZw6SvCvS72uy1lJPrRo/RzQdd1jUkdv/SrbH3cf0p/7mp2V5MRFy7p813VvXMNzHZfuXuvdhu+qlY57VmO/mXkJu7DcPZrQaBMq9UJhx5V2AbNSyiGpw3E/2R7yiiRPLfW/jCxcJPABbdokyW+XUu7XDgYelxV27pV09V/SvyrJKaWUq7dlXauUco81zuK7qeeaLmeS5LBSyv1brU9YVOtKr3Ox/53k3qWUO5V6IbTnZPvt+xVJTiztYo6llKuVUu67aB7PbEn9Yann3C5cvO3A1GueXFhKuXGSx6z8spOs/trhUqeUcoVSyr1Tzzt/fdd1n19DO3FakoeXUv6w1IsAX6uUcuOu685K8vEkLyj1AoQ3T/2PSgsXdf23JEeUUq5cSrlm6mmhiz2ulHLtUi9q//Rsv89elHrBySunDn9OknRdd2aSf02yrZRy2Tb65j4z83x9kvuUUu5RStm71XZ4WfqCkp9KckGpF6u9XHv8zVqotjPW0m68MXV93qJ98Xx+kn9pIzYu1l7bQ0opB3Vd98vUNuw3O1kXa3NqkruVUn6nq/+h8/TUz50D22fPE3PJ9v3dJNcuMxfuTN1uf9B13c9KKbdN8uCZaeemvn/LbR//mOSGpf67+n1K/QcMN0299syOOj3JkaWUm7ZwdXb/2aXjgjbC782p/yTjwLZfPWqmzv+Zuv/duQWiz0nylkUjEleznscWsy6bGmCdm+RXpZR7pV4HciVXT/KEUspl2jJukvpe7cy8vpvkKqWUg5aZvqNt1zlJxqWU/dtj79im7ez6Wahx8Xa9lJW29Yt1XXdOkvcmObl9/uxV6sVv77LMfE9vtV+pve7/sWj6vyV5cFs/90y9ltSSSikPmFl356d+mfxN6rZ6w1L/+cpl2u02pZSbtP3+LamfL5dvx4x/tsq6WMmrkhxV6giW0t6rYdm+s2U5q20v7Jr1bsN31bLHPWtgv7mE/WYZQqPN6YLUa2X8S6n/aeKTqRclOy5Juq57a+rFEd9U6hDEL6ReMDtd130/yQNSz888L/Wg8V9Te2p2xvGpF0T8ZFvW+1KT7LU4LclNSx0a+LbFE2dqHbdab5B6MduF6cu+ziXm9cXUgOwNqQdC52f70/Jekpr+v7eUckHqOr3dotl8qL3Wf05yUtd17233Pym14b8gtSF6c1a3Lclr22v/k9UeDJvcO9t+c1ZqOPPi1GB1wbLtRNd1n2qPPSX1YqgfyiUjIh6Uep7/t1Mvdvrsruve16a9LvVCrdPULw1L7XdvaNPOSD0FbuG/eZyaeuHY76fu6/+06HkPSb2mx3ntOW9OayNbmHXf1BGF57bX/OQs8XnZDnTunXrtgG+05f1d6kUZd8a2rNJutPXzzNRRCuekjuL602Xm99Ak0/aeHJX6utlNuq47N/V6Ds9qd/2P1BFzZ6SOyntD6vWCkuT9qaNqvlNK+X6777FJntP2tWdlZmRYC1tOTPKxtn3cftGyz0vdFo9L3a6fkuTe7XN2R1/Hu1P3ofen7tfvX/SQXTkuSJLHp56G9u3U6y5dvF7aZ/lRqeHR91K/CD12B+tft2OLRfO9IDWAOj31GOPBqccVK/mXtvzvp75//63ruvN2Zl5dHXX+xiRntG3g4EXTd7Ttuk/qdaq+mXq89MA2bafWT7PUdr2UZbf1JfxZasj2pdR19b+z9Cl3Sb2o+pmp7fF7Uz9HZh2d+roXTo3pHZvOuE3qcfiFqe/N0V3XndHeu7untrvfTj3NZeGC5Undvg9q978u9T3bqWPwruv+Nckjk7w89bX/Z+p1b9by3BW3F9bsneWSU2wvLKW8td2/rm34OljtuGcl9ptLnmu/WUbpOqOw9mSl/nvbs5M8pOu6D8y7ns2olDJIbSgv0y19fj+wyZRSpqkXdXzfao9dw7zenOQrXdftSM8cwLJKKUemtlF3mnctzE8p5YVJrtl13cPmXQtcWthvNh8jjfZAbWjyFUs9dWHh+jufXOVpAFtCGxJ9vXaqwz1Te+dX6jkDgFWVeomJm7fTYm6betr1W1d7Hmxl9pvNb0f+gwuXHndIHe69MJz3fl3XXbTyUwC2jGumnj9/ldSRmI/puu6z8y0JgD3Agamntxycen2Uk5O8fa4VweZnv9nknJ4GAAAAQI/T0wAAAADoERoBAAAA0CM0AgAAAKBHaAQAAABAj9AIAAAAgB6hEQAAAAA9QiMAAAAAeoRGAAAAAPQIjQAAAADoERoBAAAA0CM0AgAAAKBHaAQAAABAj9AIAAAAgB6hEQAAAAA9QiMAAAAAeoRGAAAAAPQIjQAAAADoERoBAAAA0CM0AgAAAKBHaAQAAABAj9AIAAAAgB6hEQAAAAA9QiMAAAAAeoRGAAAAAPQIjQAAAADoERoBAAAA0CM0AgAAAKBHaAQAAABAj9AIAAAAgB6hEQAAAAA9QiMAAAAAeoRGAAAAAPQIjQAAAADoERoBAAAA0CM0AgAAAKBHaAQAAABAj9AIAAAAgB6hEQAAAAA9QiMAAAAAeoRGAAAAAPQIjQAAAADoERoBAAAA0CM0AgAAAKBHaAQAAABAj9AIAAAAgB6hEQAAAAA9QiMAAAAAeoRGAAAAAPQIjQAAAADoERoBAAAA0CM0AgAAAKBHaAQAAABAj9AIAAAAgB6hEQAAAAA9QiMAAAAAeoRGAAAAAPQIjQAAAADoERoBAAAA0CM0AgAAAKBHaAQAAABAj9AIAAAAgB6hEQAAAAA9QiMAAAAAeoRGAAAAAPQIjQAAAADoERoBAAAA0CM0AgAAAKBHaAQAAABAj9AIAAAAgB6hEQAAAAA9QiMAAAAAeoRGAAAAAPQIjQAAAADoERoBAAAA0CM0AgAAAKBHaAQAAABAj9AIAAAAgB6hEQAAAAA9QiMAAAAAeoRGAAAAAPQIjQAAAADoERoBAAAA0CM0AgAAAKBHaAQAAABAj9AIAAAAgB6hEQAAAAA9QiMAAAAAeoRGAAAAAPQIjQAAAADoERoBAAAA0CM0AgAAAKBHaAQAAABAj9AIAAAAgB6hEQAAAAA9QiMAAAAAeoRGAAAAAPQIjQAAAADoERoBAAAA0CM0AgAAAKBHaAQAAABAj9AIAAAAgB6hEQAAAAA9QiMAAAAAeoRGAACwCQxGk23zrgFAW8QsoREAAGwOz553AQDRFjFDaAQAAHM2GE2e3X6WedcCbF2D0eQP5l0Dm0vpum7eNQAAwJbUTgNZqlf/hOl4uG1jqwG2Km0RyxEaAQDAHA1Gk7ckuXuS/afjoZFGwFwMRpOTkxybpCT5YpJbTMfDX823KubN6WkAADAn7VSQ/5rkxHnXAmxdg9HkRkmekOS0dtdhSR49v4rYLIRGAAAwB4PRZJ8kpyb5RpJTkpww34qALezFSX6a5BmpbdEHkjxnMJpcea5VMXf7zLsAAADYoh6Z5LeT/PF0PPxZkm3zLQfYigajyb2SHJHkSdPx8LtJtg1Gk5sn+Wxqu/SEOZbHnBlpBAAAG6z13j83tTf/rXMuB9iiBqPJZVJHOn4tycsW7p+Oh/+e5JVJHjsYTQ6bU3lsAkIjAADYeM9OcqUkx0zHQ/+ZBpiXxyW5UZJjp+PhLxZNe1aSC5KcMhhNXKR/ixIaAQDABhqMJjdN/aL2ytabD7DhBqPJ1VJPP3tPkn9cPH06Hn6/Tb9bkvtsZG1sHkIjAADYIK23/pTU3vtnzbkcYGt7bpIDUkcZLTfi8a+TfCXJyYPRZN8Nq4xNQ2gEAAAbZ5jk7km2tV58gA03GE1+J/Vi/C+fjodfXu5x0/Hwl0mOSXL9uCD2liQ0AgCADTAYTS6bOsroK6m99wAbro14PDXJ+UlOWO3x0/HwPUneleSZg9Hkmru5PDYZoREAAGyMJ6T21h/Teu8B5uH+SQ5P8ozpeHj+Gp9zXJL9kpy4u4picxIaAQDAbjYYTa6Reg2jd7Vee4ANNxhNLpfkpCSfT/J3a33edDz8jyQvTfLwwWhy691UHpuQ0AgAAHa/56X20h8370KALe2JSQapIx5/tYPPfW6S7yd5STvFjS1AaAQAALvRYDS5VZK/SPLS1lsPsOEGo8m1kjw1yVum4+H7d/T50/HwR0meluSOSR64zuWxSQmNAABgN2m98S9J7Z1/7pzLAba2FyTZJ8mTd2Eer07y2SR/ORhNLr8uVbGpCY0AAGD3+ZMkd0rytNZLD7DhBqPJ7ZM8NMnJ0/HwjJ2dz3Q8/HWSo5NcO8lT1qk8NjGhEQAA7AatF/4vU3vlXz3ncoAtajCa7JU64vGc1NFGu2Q6Hn4kyelJjh+MJtfZ1fmxuQmNAABg93hSkkOSHN165wHm4b8nuW2S0XQ8vHCd5rkwyuiF6zQ/NimhEQAArLPBaHJIklGS01uvPMCGG4wmByQZJ/lUktev13yn4+GZSV6U5E8Ho8md12u+bD5CIwAAWH8vTFLimh/AfD01yW+ljnj8zTrP+0VJzk7yksFosvc6z5tNQmgEAADraDCa3CnJg5K8qPXGA2y4wWhy3STHJXnddDz85HrPfzoe/iQ1GL9lkiPXe/5sDkIjAABYJzMXnD07tRceYF7+MsmvU0cb7S5vSvLxJM8fjCZX2I3LYU6ERgAAsH6OTHKrJMe3XniADTcYTX4/yf2TPH86Hn5rdy1nOh52SY5OcvUkz9hdy2F+hEYAALAOWi/781N73d8453KALWowmuyT5NQk0yQv3t3Lm46H/5rk1UmOGYwmN9jdy2NjCY0AAGB9PD3JNVIvONvNuxhgy3pEkpsnedJ0PLxog5b5tCQ/T3LyBi2PDSI0AgCAXdR6149N8urW6w6w4QajyZWSPC/JB5O8ZaOWOx0Pv5PkuUnuMxhN7r5Ry2X3ExoBAMCuOym1l/1p8y4E2NKeneRKSY6Zw4jHlyT5epJTBqPJZTZ42ewmQiMAANgFg9Hkbkn+KMnzWm87wIYbjCY3SfL4JK+ajoef2+jlT8fDnyc5LslNkxy10ctn99gjQqPBaLJt3jXAVmKfW551szrraG2sp9VZR2wGMxec/Xr7CbDhBqNJSXJKkguTPHOOpbwjyfuSPGcwmlx1jnWwTvaI0Ch1CB6wcexzy7NuVmcdrY31tDrriM3gqNRe9eNaLzvAPByR5B5Jtk3Hw3PnVUQ7Je7YJAcmOWFedbB+Stdduv+xw2A0OTXJ0Uk+NO9aYAu5y3Q8LPMuYrPRHq3ZXWIdrYX1tDptEXM1GE2ukuRrST6T5O7+YxowD4PR5LJJvpDk10luPh0PfznnkjIYTV6W5LFJbjEdDz8/73rYeZfa0KgNSV+qh/HMJNMNLQa2hkGSQ5e4/4TpeLhtY0vZXLRHazLI0tuPdbS9Qayn1QyiLWKTGIwmL08daXSL6Xj4hXnXA2xNg9HkuNSL8R8xHQ/fPe96ku1C9c8muatQ/dLrUhsazRqMJp2eRtg49rnlWTers47WxnpanXXEPA1Gk5sl+VySv5mOh4+fdz3A1jQYTa6eGs58dDoeDuddz6zBaPL4JC9L8l+n4+Hb5l0PO2dPuaYRAABsiHbB2VOT/CiurQXM1/OSXD7JE+ddyBJekeSLSU4ejCb7zbsYds6eEhq5wBZsLPvc8qyb1VlHa2M9rc46Yl7+KMkfJnnWdDw8b97FAFvTYDS5ZZKrczOWAAAJn0lEQVRHJHnpdDz86rzrWWw6Hv4qyTFJrtt+cim0R5yeBgAAG2Ewmuyb5EtJLkq9ltGv5lwSsAW1EY8fSnLjJDecjoc/nHNJyxqMJm9LctckN5iOh+fMux52zJ4y0ggAADbCxb3mAiNgjh6Q5M5JnrGZA6PmSUkum+T58y6EHSc0AgCANRiMJr+V5BlJ3jEdD98373qArWkwmlwuyV+mXoz/tDmXs6rpePifSU5JcuRgNLnNvOthxwiNAABgbU5Msm+S4+ZdCLClPSnJdZIcPR0Pfz3vYtboxCTfTfLSdmodlxJCIwAAWEXrHX94klNarznAhhuMJockeWqS/zUdDz8073rWajoe/ji17tsnefCcy2EHCI0AAGAFrVf8Jam95CfOuRxgaxsnKUmeMu9CdsJrk3wmyQsHo8n+8y6GtREaAQDAyh6U5A5Jntp6ywE23GA0uWPqKJ2TpuPhdM7l7LDpePibJEcnuVaS4+dcDmskNAIAgGW03vAXpfaOv3bO5QBb1GA02St1xOO3UkcbXSpNx8OPJXljkicPRpPBnMthDYRGAACwvKek9oof3XrJAebhYUluneT46Xj4k3kXs4uOT9KlBvJsckIjAABYwmA0OTQ1NHpj6x0H2HCD0eQKSV6Q5BNJ3jDncnbZdDw8K3W01AMGo8ld5l0PKxMaAQDA0l6U2hvu2hvAPD0tyTVSRzx28y5mnZyU5JtJTh2MJnvPuxiWJzQCAIBFBqPJ7yX5kyTj1isOsOEGo8n1kxyb5LXT8fDT865nvUzHw5+mjuS8RZI/n3M5rEBoBAAAM1qv90uSnJXaGw4wLycl+UWSp867kN3g9CQfTXLiYDS54ryLYWlCIwAA2N6fp/Z+P7n1hgNsuMFoctck901y4nQ8PGfe9ay3dqrd0UmumuSZcy6HZQiNAACgGYwmByU5MbX3+/Q5lwNsUYPRZJ8kpyY5o/3cI03Hw/+b5LQkTxiMJjeadz30CY0AAOASz0zt9d6TLjgLXPo8OslhSY6bjoc/m3cxu9kzkvw0ycnzLoQ+oREAACRpvdxHJzmt9X4DbLjBaHKVJM9N8s9J3j7ncna76Xj43STPSTIcjCb3mnc9bE9oBAAA1clJLkrt9QaYl21JDkpy7BYa8fiyJF9LcspgNLnMvIvhEkIjAAC2vMFocs8kwyTPab3eABtuMJocluQxSV4xHQ8/P+96Nsp0PPxFkicmuVGSx825HGYIjQAA2NJar/Ypqb3cL51zOcAWNRhNSmpb9OMkz5pzOfMwSfKeJNsGo8nV5l0MldAIAICt7rFJbpzkia23G2Ae7pPkbkmePR0Pz5t3MRutnYp3bJIDUq9xxCYgNAIAYMtqvdknpPZuT+ZcDrBFDUaTfZO8OMmXkrxizuXMzXQ8/HKSlyd51GA0+Z1514PQCACAre05qb3aT9xCF5wFNp+jk1wv9eLXv5x3MXN2QpLzk5zaTtljjoRGAABsSYPR5OZJHpXkr6bj4ZfmXQ+wNQ1Gk2smeWaSd07Hw/fOu555m46H56euj8OT3H++1SA0AgBgy2m916em9mZvm281wBZ3YpJ9kxw370I2kVcl+XySkwajyX7zLmYrExoBAOxhBqPJtnnXcCnwpiS/n+SZrVebJZQiUFuNdbQ8bdHqBqPJ3yZ5eJJTp+Ph1+Zdz2YxHQ9/leSYJIMkT7QtrW53raPSdU7dBgDYE7TRM3sn+WWSy8y5nM1s3yQXpvZi36p9OWEJpaTrurimyAqso6UNRpN9oi1aTUnyiyTfS3KD6Xj44znXs+kMRpN/SHKPJPvHtrSaXybZa72vz7fPes4MAIC52iv1oDEzP1neMQKj5ZWSU9vPD865FC6dzmg/tUWre5rAaFlPTnLv9rttaXWHJfnCes7QSCMAgD1AG5b+7CUmfSDJ+ze2mk3rD1JPSVvshOl4uG2Da9m02ulWS21LZyaZbmgxm9cgyaFL3H9C123t09W0RWuiLVoD29Ka7PZtSWgEALCHGYwm3XQ8dLrMCqyjtXHq1eqso+XZz1ZnHa2N9bS63bWOXAgbAAAAgB6hEQDAnueEeRdwKWAdrY31tDrraHnWzeqso7Wxnla3W9aR09MAAAAA6DHSCAAAAIAeoREAAAAAPUIjAAAAAHqERgAAAAD0CI0AAAAA6BEaAQAAANAjNAIAAACgR2gEAAAAQI/QCAAAAIAeoREAAAAAPUIjAAAAAHqERgAAAAD0CI0AAAAA6BEaAQAAANAjNAIAAACgR2gEAAAAQI/QCAAAAIAeoREAAAAAPUIjAAAAAHqERgAAAAD0CI0AAAAA6BEaAQAAANAjNAIAAACgR2gEAAAAQI/QCAAAAIAeoREAAAAAPUIjAAAAAHqERgAAAAD0CI0AAAAA6BEaAQAAANAjNAIAAACgR2gEAAAAQI/QCAAAAIAeoREAAAAAPUIjAAAAAHqERgAAAAD0CI0AAAAA6BEaAQAAANAjNAIAAACgR2gEAAAAQI/QCAAAAIAeoREAAAAAPUIjAAAAAHqERgAAAAD0CI0AAAAA6BEaAQAAANAjNAIAAACgR2gEAAAAQI/QCAAAAIAeoREAAAAAPUIjAAAAAHqERgAAAAD0CI0AAAAA6BEaAQAAANAjNAIAAACgR2gEAAAAQI/QCAAAAIAeoREAAAAAPUIjAAAAAHqERgAAAAD0CI0AAAAA6BEaAQAAANAjNAIAAACgR2gEAAAAQI/QCAAAAIAeoREAAAAAPUIjAAAAAHqERgAAAAD0CI0AAAAA6BEaAQAAANAjNAIAAACgR2gEAAAAQI/QCAAAAIAeoREAAAAAPUIjAAAAAHqERgAAAAD0CI0AAAAA6BEaAQAAANAjNAIAAACgR2gEAAAAQI/QCAAAAIAeoREAAAAAPUIjAAAAAHqERgAAAAD0CI0AAAAA6BEaAQAAANAjNAIAAACgR2gEAAAAQI/QCAAAAIAeoREAAAAAPUIjAAAAAHqERgAAAAD0CI0AAAAA6BEaAQAAANAjNAIAAACgR2gEAAAAQI/QCAAAAIAeoREAAAAAPUIjAAAAAHqERgAAAAD0CI0AAAAA6BEaAQAAANAjNAIAAACgR2gEAAAAQI/QCAAAAIAeoREAAAAAPUIjAAAAAHqERgAAAAD0CI0AAAAA6BEaAQAAANAjNAIAAACgR2gEAAAAQI/QCAAAAIAeoREAAAAAPUIjAAAAAHqERgAAAAD0CI0AAAAA6BEaAQAAANAjNAIAAACgR2gEAAAAQI/QCAAAAIAeoREAAAAAPUIjAAAAAHr+HypvtkBnb27cAAAAAElFTkSuQmCC)"
   ]
  },
  {
   "cell_type": "markdown",
   "metadata": {},
   "source": [
    "Exemples des figures obtenues après plusieurs itérations:\n",
    "\n",
    "![EtapesFlocon](data:image/png;base64,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)"
   ]
  },
  {
   "cell_type": "markdown",
   "metadata": {},
   "source": [
    "### 3.1 - Première étape de la construction d'un Flocon de Koch"
   ]
  },
  {
   "cell_type": "markdown",
   "metadata": {},
   "source": [
    "Calculez le point `xm2` correspondant à la rotation du point `x2_3` par rapport au point x1_3 et d'angle $\\dfrac{\\pi}{3}$. "
   ]
  },
  {
   "cell_type": "code",
   "execution_count": null,
   "metadata": {
    "deletable": false,
    "nbgrader": {
     "cell_type": "code",
     "checksum": "d2b1a7516ebebc90c518bff934fbd763",
     "grade": false,
     "grade_id": "cell-93c3d7e5f47bd418",
     "locked": false,
     "schema_version": 3,
     "solution": true,
     "task": false
    }
   },
   "outputs": [],
   "source": [
    "# YOUR CODE HERE\n",
    "raise NotImplementedError()"
   ]
  },
  {
   "cell_type": "code",
   "execution_count": null,
   "metadata": {
    "deletable": false,
    "editable": false,
    "nbgrader": {
     "cell_type": "code",
     "checksum": "0271b6c50f8dc5ea1c068fba32744686",
     "grade": true,
     "grade_id": "cell-d31b93c5c7bc8260",
     "locked": true,
     "points": 1,
     "schema_version": 3,
     "solution": false,
     "task": false
    }
   },
   "outputs": [],
   "source": [
    "# Ce bloc permet de valider votre code. Vous ne devez pas le modifier.  \n",
    "try:\n",
    "    np.testing.assert_equal(xm2.shape,(2,),err_msg=\"\\033[93m {}\\033[00m\" .format('Test 1 : Les dimensions de xm2 ne sont pas correctes.'))\n",
    "    np.testing.assert_almost_equal(xm2,np.array([0.2113249, 0.7886751]),err_msg=\"\\033[93m {}\\033[00m\" .format('Test 2 : Les coordonnées du point xm2 ne sont pas correctes.'))\n",
    "except Exception as e: \n",
    "    print(\"\\033[91m {}\\033[00m\" .format('KO - Au moins un test n\\'est pas validé')) \n",
    "    print('Information sur le test non valide:')\n",
    "    print(e)  \n",
    "    raise e\n",
    "else:\n",
    "    print(\"\\033[92m {}\\033[00m\" .format('Ok - Tous les tests sont validés.')) "
   ]
  },
  {
   "cell_type": "markdown",
   "metadata": {},
   "source": [
    "En reprenant le code que vous avez utilisé pour construire `x_end`, faites maintenant en sorte d'avoir une matrice contenant le point (0,0), x1_3, xm2, x2_3 et la dernière ligne de x."
   ]
  },
  {
   "cell_type": "code",
   "execution_count": null,
   "metadata": {
    "deletable": false,
    "nbgrader": {
     "cell_type": "code",
     "checksum": "8e44ff98896aca6eb8e4a0c97f8db3fa",
     "grade": false,
     "grade_id": "cell-5c9f9832f3bfb6a0",
     "locked": false,
     "schema_version": 3,
     "solution": true,
     "task": false
    }
   },
   "outputs": [],
   "source": [
    "# YOUR CODE HERE\n",
    "raise NotImplementedError()"
   ]
  },
  {
   "cell_type": "code",
   "execution_count": null,
   "metadata": {
    "deletable": false,
    "editable": false,
    "nbgrader": {
     "cell_type": "code",
     "checksum": "a56e1aec734c397beec0522a4f0a4d9c",
     "grade": true,
     "grade_id": "cell-2665fb57ea21da28",
     "locked": true,
     "points": 1,
     "schema_version": 3,
     "solution": false,
     "task": false
    }
   },
   "outputs": [],
   "source": [
    "# Ce bloc permet de valider votre code. Vous ne devez pas le modifier.  \n",
    "try:\n",
    "    np.testing.assert_equal(x_end.shape,(5,2),err_msg=\"\\033[93m {}\\033[00m\" .format('Test 1 : Les dimensions de x_end ne sont pas correctes.'))\n",
    "    np.testing.assert_almost_equal(x_end[0,:],np.zeros(2),err_msg=\"\\033[93m {}\\033[00m\" .format('Test 2 : Le premier point doit être le point (0,0).'))\n",
    "    np.testing.assert_almost_equal(x_end[1,:],x1_3,err_msg=\"\\033[93m {}\\033[00m\" .format('Test 3 : Le deuxième point doit être le point x1_3.'))\n",
    "    np.testing.assert_almost_equal(x_end[2,:],xm2,err_msg=\"\\033[93m {}\\033[00m\" .format('Test 4 : Le troisième point doit être le point xm2.'))    \n",
    "    np.testing.assert_almost_equal(x_end[3,:],x2_3,err_msg=\"\\033[93m {}\\033[00m\" .format('Test 5 : Le quatrième point doit être le point x2_3.'))\n",
    "    np.testing.assert_almost_equal(x_end[4,:],np.ones(2),err_msg=\"\\033[93m {}\\033[00m\" .format('Test 6 : Le dernier point doit être le point (1,1).'))\n",
    "except Exception as e: \n",
    "    print(\"\\033[91m {}\\033[00m\" .format('KO - Au moins un test n\\'est pas validé')) \n",
    "    print('Information sur le test non valide:')\n",
    "    print(e)  \n",
    "    raise e\n",
    "else:\n",
    "    print(\"\\033[92m {}\\033[00m\" .format('Ok - Tous les tests sont validés.')) "
   ]
  },
  {
   "cell_type": "markdown",
   "metadata": {},
   "source": [
    "Nous allons maintenant généraliser les étapes que nous venons de faire pour construire les différentes itérations d'un flocon de Koch."
   ]
  },
  {
   "cell_type": "markdown",
   "metadata": {},
   "source": [
    "Renommez la matrice `x_end` en `x1`. Cette matrice correspond à un flocon de Koch après une itération de construction."
   ]
  },
  {
   "cell_type": "code",
   "execution_count": null,
   "metadata": {
    "deletable": false,
    "nbgrader": {
     "cell_type": "code",
     "checksum": "470f2bc475530e981c89ec13bc4ce004",
     "grade": false,
     "grade_id": "cell-a0d00109e93d1fa3",
     "locked": false,
     "schema_version": 3,
     "solution": true,
     "task": false
    }
   },
   "outputs": [],
   "source": [
    "# YOUR CODE HERE\n",
    "raise NotImplementedError()"
   ]
  },
  {
   "cell_type": "code",
   "execution_count": null,
   "metadata": {
    "deletable": false,
    "editable": false,
    "nbgrader": {
     "cell_type": "code",
     "checksum": "53517fa6fec7d336d41b02b1eac5e189",
     "grade": true,
     "grade_id": "cell-cfdf0dc0aed07720",
     "locked": true,
     "points": 1,
     "schema_version": 3,
     "solution": false,
     "task": false
    }
   },
   "outputs": [],
   "source": [
    "# Ce bloc permet de valider votre code. Vous ne devez pas le modifier.  \n",
    "try:\n",
    "    np.testing.assert_equal(x1.shape,(5,2),err_msg=\"\\033[93m {}\\033[00m\" .format('Test 1 : Les dimensions de x1 ne sont pas correctes.'))\n",
    "    np.testing.assert_equal(np.sum(x1),5,err_msg=\"\\033[93m {}\\033[00m\" .format('Test 2 : La nouvelle valeur de x1 n\\'est pas correcte.'))\n",
    "except Exception as e: \n",
    "    print(\"\\033[91m {}\\033[00m\" .format('KO - Au moins un test n\\'est pas validé')) \n",
    "    print('Information sur le test non valide:')\n",
    "    print(e)  \n",
    "    raise e\n",
    "else:\n",
    "    print(\"\\033[92m {}\\033[00m\" .format('Ok - Tous les tests sont validés.')) "
   ]
  },
  {
   "cell_type": "markdown",
   "metadata": {},
   "source": [
    "La première étape que nous avions faite pour l'itération 1, consistait à calculer le point se trouvant à 1/3 du segment. Nous allons maintenant généraliser cela à tous les segments. Afin de réaliser cela, vous calculerez `x1_3` en utilisant une convolution 2D entre la matrice `x1` et la matrice colonne $\\left[\\begin{array}{c}\\dfrac{1}{3}\\\\\n",
    "\\dfrac{2}{3}\n",
    "\\end{array}\n",
    "\\right]$ de taille $(2,1)$. Vous ajouterez l'argument `'same'` à la convolution."
   ]
  },
  {
   "cell_type": "code",
   "execution_count": null,
   "metadata": {
    "deletable": false,
    "nbgrader": {
     "cell_type": "code",
     "checksum": "b7fbfcbbb1897b14b7d9a1a468fc9592",
     "grade": false,
     "grade_id": "cell-fe0cf4c4aa1c0bb9",
     "locked": false,
     "schema_version": 3,
     "solution": true,
     "task": false
    }
   },
   "outputs": [],
   "source": [
    "# YOUR CODE HERE\n",
    "raise NotImplementedError()"
   ]
  },
  {
   "cell_type": "code",
   "execution_count": null,
   "metadata": {
    "deletable": false,
    "editable": false,
    "nbgrader": {
     "cell_type": "code",
     "checksum": "2abb0ae172eadbc6c3577b58db54f51d",
     "grade": true,
     "grade_id": "cell-d4736d3506fd579a",
     "locked": true,
     "points": 1,
     "schema_version": 3,
     "solution": false,
     "task": false
    }
   },
   "outputs": [],
   "source": [
    "# Ce bloc permet de valider votre code. Vous ne devez pas le modifier.  \n",
    "try:\n",
    "    np.testing.assert_equal(x1_3.shape,(5,2),err_msg=\"\\033[93m {}\\033[00m\" .format('Test 1 : Les dimensions de x1_3 ne sont pas correctes.'))\n",
    "    np.testing.assert_almost_equal(x1_3,np.array([[0.        , 0.        ],\n",
    "       [0.11111111, 0.11111111],\n",
    "       [0.29266384, 0.48511393],\n",
    "       [0.36310547, 0.74800565],\n",
    "       [0.77777778, 0.77777778]]),\n",
    "    err_msg=\"\\033[93m {}\\033[00m\" .format('Test 2 : La nouvelle valeur de x1_3 n\\'est pas correcte.'))\n",
    "except Exception as e: \n",
    "    print(\"\\033[91m {}\\033[00m\" .format('KO - Au moins un test n\\'est pas validé')) \n",
    "    print('Information sur le test non valide:')\n",
    "    print(e)  \n",
    "    raise e\n",
    "else:\n",
    "    print(\"\\033[92m {}\\033[00m\" .format('Ok - Tous les tests sont validés.')) "
   ]
  },
  {
   "cell_type": "markdown",
   "metadata": {},
   "source": [
    "En utilisant un mécanisme similaire à la question précédente, calculez `x2_3` correspondant à la liste des points se trouvant à 2/3 de chaque segment."
   ]
  },
  {
   "cell_type": "code",
   "execution_count": null,
   "metadata": {
    "deletable": false,
    "nbgrader": {
     "cell_type": "code",
     "checksum": "43790df5f97e22ecc19334a78dad578e",
     "grade": false,
     "grade_id": "cell-c718fee92b484355",
     "locked": false,
     "schema_version": 3,
     "solution": true,
     "task": false
    }
   },
   "outputs": [],
   "source": [
    "# YOUR CODE HERE\n",
    "raise NotImplementedError()"
   ]
  },
  {
   "cell_type": "code",
   "execution_count": null,
   "metadata": {
    "deletable": false,
    "editable": false,
    "nbgrader": {
     "cell_type": "code",
     "checksum": "9cedbdd6fa322b89e42cbaddf546f48f",
     "grade": true,
     "grade_id": "cell-efbdbb21ccdf72ba",
     "locked": true,
     "points": 1,
     "schema_version": 3,
     "solution": false,
     "task": false
    }
   },
   "outputs": [],
   "source": [
    "# Ce bloc permet de valider votre code. Vous ne devez pas le modifier.  \n",
    "try:\n",
    "    np.testing.assert_equal(x2_3.shape,(5,2),err_msg=\"\\033[93m {}\\033[00m\" .format('Test 1 : Les dimensions de x2_3 ne sont pas correctes.'))\n",
    "    np.testing.assert_almost_equal(np.sum(x2_3),4+1/3,err_msg=\"\\033[93m {}\\033[00m\" .format('Test 2 : La nouvelle valeur de x2_3 n\\'est pas correcte.'))\n",
    "except Exception as e: \n",
    "    print(\"\\033[91m {}\\033[00m\" .format('KO - Au moins un test n\\'est pas validé')) \n",
    "    print('Information sur le test non valide:')\n",
    "    print(e)  \n",
    "    raise e\n",
    "else:\n",
    "    print(\"\\033[92m {}\\033[00m\" .format('Ok - Tous les tests sont validés.')) "
   ]
  },
  {
   "cell_type": "markdown",
   "metadata": {},
   "source": [
    "Affichez sur la même figure le flocon de Koch à l'étape 1, les points `x1_3` en rouge et les points `x2_3` en vert."
   ]
  },
  {
   "cell_type": "code",
   "execution_count": null,
   "metadata": {
    "deletable": false,
    "nbgrader": {
     "cell_type": "code",
     "checksum": "a121943025fd3358c6361105bdd04aa3",
     "grade": true,
     "grade_id": "cell-aa42d7f60d51711a",
     "locked": false,
     "points": 1,
     "schema_version": 3,
     "solution": true,
     "task": false
    }
   },
   "outputs": [],
   "source": [
    "# YOUR CODE HERE\n",
    "raise NotImplementedError()"
   ]
  },
  {
   "cell_type": "markdown",
   "metadata": {},
   "source": [
    "Calculez `x1bis` correspondant à `x1` sans sa dernière ligne.  "
   ]
  },
  {
   "cell_type": "code",
   "execution_count": null,
   "metadata": {
    "deletable": false,
    "nbgrader": {
     "cell_type": "code",
     "checksum": "ecb198f0a86eb2d7c92839cb39982d5e",
     "grade": false,
     "grade_id": "cell-76012808364d227e",
     "locked": false,
     "schema_version": 3,
     "solution": true,
     "task": false
    }
   },
   "outputs": [],
   "source": [
    "# YOUR CODE HERE\n",
    "raise NotImplementedError()"
   ]
  },
  {
   "cell_type": "code",
   "execution_count": null,
   "metadata": {
    "deletable": false,
    "editable": false,
    "nbgrader": {
     "cell_type": "code",
     "checksum": "40d3915bbb301541db41d8b6227b12b9",
     "grade": true,
     "grade_id": "cell-ae4ca00c6b35dfb9",
     "locked": true,
     "points": 1,
     "schema_version": 3,
     "solution": false,
     "task": false
    }
   },
   "outputs": [],
   "source": [
    "# Ce bloc permet de valider votre code. Vous ne devez pas le modifier.  \n",
    "try:\n",
    "    np.testing.assert_equal(x1bis.shape,(x1.shape[0]-1,x1.shape[1]),err_msg=\"\\033[93m {}\\033[00m\" .format('Test 1 : Les dimensions de x1bis ne sont pas correctes.'))\n",
    "    np.testing.assert_almost_equal(x1bis,np.array([[0.      , 0.      ],\n",
    "       [0.3333333, 0.3333333],\n",
    "       [0.2113249, 0.7886751],\n",
    "       [0.6666667, 0.6666667]]),err_msg=\"\\033[93m {}\\033[00m\" .format('Test 2 : Les valeurs de x1bis ne sont pas correctes.'))\n",
    "except Exception as e: \n",
    "    print(\"\\033[91m {}\\033[00m\" .format('KO - Au moins un test n\\'est pas validé')) \n",
    "    print('Information sur le test non valide:')\n",
    "    print(e)  \n",
    "    raise e\n",
    "else:\n",
    "    print(\"\\033[92m {}\\033[00m\" .format('Ok - Tous les tests sont validés.')) "
   ]
  },
  {
   "cell_type": "markdown",
   "metadata": {},
   "source": [
    "Calculez `x1_3bis` correspondant à `x1_3` sans sa première ligne et `x2_3bis` correspondant à `x2_3` sans sa première ligne."
   ]
  },
  {
   "cell_type": "code",
   "execution_count": null,
   "metadata": {
    "deletable": false,
    "nbgrader": {
     "cell_type": "code",
     "checksum": "e486ced9626857e9d4f45e1b5dc82bf6",
     "grade": false,
     "grade_id": "cell-c3f23a70a21bf5ff",
     "locked": false,
     "schema_version": 3,
     "solution": true,
     "task": false
    }
   },
   "outputs": [],
   "source": [
    "# YOUR CODE HERE\n",
    "raise NotImplementedError()"
   ]
  },
  {
   "cell_type": "code",
   "execution_count": null,
   "metadata": {
    "deletable": false,
    "editable": false,
    "nbgrader": {
     "cell_type": "code",
     "checksum": "ad9c1536a706b1b57968e91cc1bb8dfd",
     "grade": true,
     "grade_id": "cell-7e945781f59e67e8",
     "locked": true,
     "points": 1,
     "schema_version": 3,
     "solution": false,
     "task": false
    }
   },
   "outputs": [],
   "source": [
    "# Ce bloc permet de valider votre code. Vous ne devez pas le modifier.  \n",
    "try:\n",
    "    np.testing.assert_equal(x1_3bis.shape,(x1_3.shape[0]-1,x1_3.shape[1]),err_msg=\"\\033[93m {}\\033[00m\" .format('Test 1 : Les dimensions de x1_3bis ne sont pas correctes.'))\n",
    "    np.testing.assert_almost_equal(x1_3bis,np.array([[0.11111111, 0.11111111],\n",
    "       [0.29266384, 0.48511393],\n",
    "       [0.36310547, 0.74800565],\n",
    "       [0.77777778, 0.77777778]]),err_msg=\"\\033[93m {}\\033[00m\" .format('Test 2 : Les valeurs de x1_3bis ne sont pas correctes.'))\n",
    "    np.testing.assert_almost_equal(x2_3bis,np.array([[0.22222222, 0.22222222],\n",
    "       [0.25199435, 0.63689453],\n",
    "       [0.51488607, 0.70733616],\n",
    "       [0.88888889, 0.88888889]]),err_msg=\"\\033[93m {}\\033[00m\" .format('Test 2 : Les valeurs de x2_3bis ne sont pas correctes.'))\n",
    "except Exception as e: \n",
    "    print(\"\\033[91m {}\\033[00m\" .format('KO - Au moins un test n\\'est pas validé')) \n",
    "    print('Information sur le test non valide:')\n",
    "    print(e)  \n",
    "    raise e\n",
    "else:\n",
    "    print(\"\\033[92m {}\\033[00m\" .format('Ok - Tous les tests sont validés.')) "
   ]
  },
  {
   "cell_type": "markdown",
   "metadata": {},
   "source": [
    "Calculez les rotations des points de `x2_3bis` par rapport au centre de `x1_3bis` pour un angle de $\\dfrac{\\pi}{3}$. Pour le point à la ligne $i$ dans `x2_3bis` vous utiliserez le centre à la ligne $i$ de `x1_3bis` . Le résultat sera stocké dans la variable `xm2`."
   ]
  },
  {
   "cell_type": "code",
   "execution_count": null,
   "metadata": {
    "deletable": false,
    "nbgrader": {
     "cell_type": "code",
     "checksum": "3d90633980d6bc712476929b300b165a",
     "grade": false,
     "grade_id": "cell-d2ae953107f04198",
     "locked": false,
     "schema_version": 3,
     "solution": true,
     "task": false
    }
   },
   "outputs": [],
   "source": [
    "# YOUR CODE HERE\n",
    "raise NotImplementedError()\n",
    "xm2"
   ]
  },
  {
   "cell_type": "code",
   "execution_count": null,
   "metadata": {
    "deletable": false,
    "editable": false,
    "nbgrader": {
     "cell_type": "code",
     "checksum": "46a126405a79984531f87f4b614966de",
     "grade": true,
     "grade_id": "cell-09c988a76f9daec4",
     "locked": true,
     "points": 1,
     "schema_version": 3,
     "solution": false,
     "task": false
    }
   },
   "outputs": [],
   "source": [
    "# Ce bloc permet de valider votre code. Vous ne devez pas le modifier.  \n",
    "try:\n",
    "    np.testing.assert_equal(xm2.shape,(x1_3.shape[0]-1,x1_3.shape[1]),err_msg=\"\\033[93m {}\\033[00m\" .format('Test 1 : Les dimensions de xm2 ne sont pas correctes.'))\n",
    "    np.testing.assert_almost_equal(xm2,np.array([[0.07044162, 0.26289171],\n",
    "       [0.14088324, 0.52578342],\n",
    "       [0.47421658, 0.85911676],\n",
    "       [0.73710829, 0.92955838]]),err_msg=\"\\033[93m {}\\033[00m\" .format('Test 2 : Les valeurs de xm2 ne sont pas correctes.'))\n",
    "except Exception as e: \n",
    "    print(\"\\033[91m {}\\033[00m\" .format('KO - Au moins un test n\\'est pas validé')) \n",
    "    print('Information sur le test non valide:')\n",
    "    print(e)  \n",
    "    raise e\n",
    "else:\n",
    "    print(\"\\033[92m {}\\033[00m\" .format('Ok - Tous les tests sont validés.')) "
   ]
  },
  {
   "cell_type": "markdown",
   "metadata": {},
   "source": [
    "Affichez sur la même figure le flocon de Koch à l'étape 1, les points `x1_3` en rouge, les points `x2_3` en vert et les points `x2m` en magenta. Vous devriez obtenir le résultat suivant:\n",
    "\n",
    "![Etape1Flocon](data:image/png;base64,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)"
   ]
  },
  {
   "cell_type": "code",
   "execution_count": null,
   "metadata": {
    "deletable": false,
    "nbgrader": {
     "cell_type": "code",
     "checksum": "9937ad454d5f33c00bca9acf6164274b",
     "grade": true,
     "grade_id": "cell-05ab0ca5dc33d603",
     "locked": false,
     "points": 1,
     "schema_version": 3,
     "solution": true,
     "task": false
    }
   },
   "outputs": [],
   "source": [
    "# YOUR CODE HERE\n",
    "raise NotImplementedError()"
   ]
  },
  {
   "cell_type": "markdown",
   "metadata": {},
   "source": [
    "Les étapes qui vont suivre permette de fusionner les différents points que nous avons calculé en une seule figure tel que les points soient correctement ordonnés pour être affiché correctement.\n",
    "\n",
    "Commencez par concaténer selon les lignes les matrices `x1bis, x1_3bis, xm2 ` et `x2_3bis`. Respectez l'ordre donné. Le résultat sera stocké dans `x_end`."
   ]
  },
  {
   "cell_type": "code",
   "execution_count": null,
   "metadata": {
    "deletable": false,
    "nbgrader": {
     "cell_type": "code",
     "checksum": "800dd40cd9e8880b31b0aa575cdd6df7",
     "grade": false,
     "grade_id": "cell-038e9de13d45910d",
     "locked": false,
     "schema_version": 3,
     "solution": true,
     "task": false
    }
   },
   "outputs": [],
   "source": [
    "# YOUR CODE HERE\n",
    "raise NotImplementedError()"
   ]
  },
  {
   "cell_type": "code",
   "execution_count": null,
   "metadata": {
    "deletable": false,
    "editable": false,
    "nbgrader": {
     "cell_type": "code",
     "checksum": "cb7b3c4b551903c544b9137febde5586",
     "grade": true,
     "grade_id": "cell-5d77da936194bb4e",
     "locked": true,
     "points": 1,
     "schema_version": 3,
     "solution": false,
     "task": false
    }
   },
   "outputs": [],
   "source": [
    "# Ce bloc permet de valider votre code. Vous ne devez pas le modifier.  \n",
    "try:\n",
    "    np.testing.assert_equal(x_end.shape,(16,2),err_msg=\"\\033[93m {}\\033[00m\" .format('Test 1 : Les nouvelles dimensions de x_end ne sont pas correctes.'))\n",
    "except Exception as e: \n",
    "    print(\"\\033[91m {}\\033[00m\" .format('KO - Au moins un test n\\'est pas validé')) \n",
    "    print('Information sur le test non valide:')\n",
    "    print(e)  \n",
    "    raise e\n",
    "else:\n",
    "    print(\"\\033[92m {}\\033[00m\" .format('Ok - Tous les tests sont validés.')) "
   ]
  },
  {
   "cell_type": "markdown",
   "metadata": {},
   "source": [
    "Redimensionnez `x_end` pour avoir un tenseur de 3 dimensions ayant 4 lignes et 2 de profondeur. Le nombre de colonnes devra être calculé automatiquement par numpy.  "
   ]
  },
  {
   "cell_type": "code",
   "execution_count": null,
   "metadata": {
    "deletable": false,
    "nbgrader": {
     "cell_type": "code",
     "checksum": "e5805a2c2a9bf9ace5e148109f3378bf",
     "grade": false,
     "grade_id": "cell-5eb9d9cf0eb641fd",
     "locked": false,
     "schema_version": 3,
     "solution": true,
     "task": false
    }
   },
   "outputs": [],
   "source": [
    "# YOUR CODE HERE\n",
    "raise NotImplementedError()"
   ]
  },
  {
   "cell_type": "code",
   "execution_count": null,
   "metadata": {
    "deletable": false,
    "editable": false,
    "nbgrader": {
     "cell_type": "code",
     "checksum": "fd8330187c6dfe8e13edc06d666edfc8",
     "grade": true,
     "grade_id": "cell-c4cecaa6b209e671",
     "locked": true,
     "points": 1,
     "schema_version": 3,
     "solution": false,
     "task": false
    }
   },
   "outputs": [],
   "source": [
    "# Ce bloc permet de valider votre code. Vous ne devez pas le modifier.  \n",
    "try:\n",
    "    np.testing.assert_equal(x_end.shape,(4,4,2),err_msg=\"\\033[93m {}\\033[00m\" .format('Test 1 : Les dimensions de x_end après redimensionnement ne sont pas correctes.'))\n",
    "except Exception as e: \n",
    "    print(\"\\033[91m {}\\033[00m\" .format('KO - Au moins un test n\\'est pas validé')) \n",
    "    print('Information sur le test non valide:')\n",
    "    print(e)  \n",
    "    raise e\n",
    "else:\n",
    "    print(\"\\033[92m {}\\033[00m\" .format('Ok - Tous les tests sont validés.')) "
   ]
  },
  {
   "cell_type": "markdown",
   "metadata": {},
   "source": [
    "Échangez les lignes et les colonnes de `x_end`."
   ]
  },
  {
   "cell_type": "code",
   "execution_count": null,
   "metadata": {
    "deletable": false,
    "nbgrader": {
     "cell_type": "code",
     "checksum": "d51cfb97116eb215d5834b8176ed4b67",
     "grade": false,
     "grade_id": "cell-fa57470d442a688f",
     "locked": false,
     "schema_version": 3,
     "solution": true,
     "task": false
    }
   },
   "outputs": [],
   "source": [
    "# YOUR CODE HERE\n",
    "raise NotImplementedError()"
   ]
  },
  {
   "cell_type": "code",
   "execution_count": null,
   "metadata": {
    "deletable": false,
    "editable": false,
    "nbgrader": {
     "cell_type": "code",
     "checksum": "5914653302ce49bc293c7a8f5b0feabd",
     "grade": true,
     "grade_id": "cell-5998c1b90f015cc5",
     "locked": true,
     "points": 1,
     "schema_version": 3,
     "solution": false,
     "task": false
    }
   },
   "outputs": [],
   "source": [
    "# Ce bloc permet de valider votre code. Vous ne devez pas le modifier.  \n",
    "try:\n",
    "    np.testing.assert_equal(x_end.shape,(4,4,2),err_msg=\"\\033[93m {}\\033[00m\" .format('Test 1 : Les dimensions de x_end ne sont pas correctes.'))\n",
    "    np.testing.assert_almost_equal(x_end,np.array( [[[0.   ,      0.        ],\n",
    "  [0.11111111, 0.11111111],\n",
    "  [0.07044162, 0.26289171],\n",
    "  [0.22222222, 0.22222222]],\n",
    " [[0.33333333, 0.33333333],\n",
    "  [0.29266384 ,0.48511393],\n",
    "  [0.14088324, 0.52578342],\n",
    "  [0.25199435, 0.63689453]],\n",
    " [[0.21132487, 0.78867513],\n",
    "  [0.36310547, 0.74800565],\n",
    "  [0.47421658, 0.85911676],\n",
    "  [0.51488607, 0.70733616]],\n",
    " [[0.66666667, 0.66666667],\n",
    "  [0.77777778, 0.77777778],\n",
    "  [0.73710829, 0.92955838],\n",
    "  [0.88888889, 0.88888889]]]\n",
    "\n",
    "),err_msg=\"\\033[93m {}\\033[00m\" .format('Test 2 : Les valeurs de x_end ne sont pas correctes.'))\n",
    "except Exception as e: \n",
    "    print(\"\\033[91m {}\\033[00m\" .format('KO - Au moins un test n\\'est pas validé')) \n",
    "    print('Information sur le test non valide:')\n",
    "    print(e)  \n",
    "    raise e\n",
    "else:\n",
    "    print(\"\\033[92m {}\\033[00m\" .format('Ok - Tous les tests sont validés.')) "
   ]
  },
  {
   "cell_type": "markdown",
   "metadata": {},
   "source": [
    "Redimensionnez `x_end` pour avoir une matrice de 2 colonnes."
   ]
  },
  {
   "cell_type": "code",
   "execution_count": null,
   "metadata": {
    "deletable": false,
    "nbgrader": {
     "cell_type": "code",
     "checksum": "23c6a7b32ae3dccc1e4f7f641dd8f2b0",
     "grade": false,
     "grade_id": "cell-2c7b71ea1433c2fe",
     "locked": false,
     "schema_version": 3,
     "solution": true,
     "task": false
    }
   },
   "outputs": [],
   "source": [
    "# YOUR CODE HERE\n",
    "raise NotImplementedError()"
   ]
  },
  {
   "cell_type": "code",
   "execution_count": null,
   "metadata": {
    "deletable": false,
    "editable": false,
    "nbgrader": {
     "cell_type": "code",
     "checksum": "35a1e4d73d8635410d996c4a30caa298",
     "grade": true,
     "grade_id": "cell-ef33db15868d68c9",
     "locked": true,
     "points": 1,
     "schema_version": 3,
     "solution": false,
     "task": false
    }
   },
   "outputs": [],
   "source": [
    "# Ce bloc permet de valider votre code. Vous ne devez pas le modifier.  \n",
    "try:\n",
    "    np.testing.assert_equal(x_end.shape,(4*4,2),err_msg=\"\\033[93m {}\\033[00m\" .format('Test 1 : Les dimensions de x_end ne sont pas correctes.'))\n",
    "except Exception as e: \n",
    "    print(\"\\033[91m {}\\033[00m\" .format('KO - Au moins un test n\\'est pas validé')) \n",
    "    print('Information sur le test non valide:')\n",
    "    print(e)  \n",
    "    raise e\n",
    "else:\n",
    "    print(\"\\033[92m {}\\033[00m\" .format('Ok - Tous les tests sont validés.')) "
   ]
  },
  {
   "cell_type": "markdown",
   "metadata": {},
   "source": [
    "Insérez à la fin de `x_end` la dernière ligne de `x1`."
   ]
  },
  {
   "cell_type": "code",
   "execution_count": null,
   "metadata": {
    "deletable": false,
    "nbgrader": {
     "cell_type": "code",
     "checksum": "eac6602fb3289e99fc86082f4e997cac",
     "grade": false,
     "grade_id": "cell-5559475aa186d799",
     "locked": false,
     "schema_version": 3,
     "solution": true,
     "task": false
    }
   },
   "outputs": [],
   "source": [
    "# YOUR CODE HERE\n",
    "raise NotImplementedError()"
   ]
  },
  {
   "cell_type": "code",
   "execution_count": null,
   "metadata": {
    "deletable": false,
    "editable": false,
    "nbgrader": {
     "cell_type": "code",
     "checksum": "5b3920220735a0df7eeff71e35e8e7e1",
     "grade": true,
     "grade_id": "cell-b3a2eb9692785acb",
     "locked": true,
     "points": 1,
     "schema_version": 3,
     "solution": false,
     "task": false
    }
   },
   "outputs": [],
   "source": [
    "# Ce bloc permet de valider votre code. Vous ne devez pas le modifier.  \n",
    "try:\n",
    "    np.testing.assert_equal(x_end.shape,(17,2),err_msg=\"\\033[93m {}\\033[00m\" .format('Test 1 : Les dimensions de x_end ne sont pas correctes.'))\n",
    "    np.testing.assert_almost_equal(x_end,np.array( [[0.   ,      0.        ],\n",
    "  [0.11111111, 0.11111111],\n",
    "  [0.07044162, 0.26289171],\n",
    "  [0.22222222, 0.22222222],\n",
    "  [0.33333333, 0.33333333],\n",
    "  [0.29266384 ,0.48511393],\n",
    "  [0.14088324, 0.52578342],\n",
    "  [0.25199435, 0.63689453],\n",
    "  [0.21132487, 0.78867513],\n",
    "  [0.36310547, 0.74800565],\n",
    "  [0.47421658, 0.85911676],\n",
    "  [0.51488607, 0.70733616],\n",
    "  [0.66666667, 0.66666667],\n",
    "  [0.77777778, 0.77777778],\n",
    "  [0.73710829, 0.92955838],\n",
    "  [0.88888889, 0.88888889],\n",
    "  [1,1]]),err_msg=\"\\033[93m {}\\033[00m\" .format('Test 2 : Les valeurs de x_end ne sont pas correctes.'))\n",
    "except Exception as e: \n",
    "    print(\"\\033[91m {}\\033[00m\" .format('KO - Au moins un test n\\'est pas validé')) \n",
    "    print('Information sur le test non valide:')\n",
    "    print(e)  \n",
    "    raise e\n",
    "else:\n",
    "    print(\"\\033[92m {}\\033[00m\" .format('Ok - Tous les tests sont validés.')) "
   ]
  },
  {
   "cell_type": "markdown",
   "metadata": {},
   "source": [
    "Affichez les points de `x_end`. Nous avons maintenant la deuxième itération d'un flocon de Koch."
   ]
  },
  {
   "cell_type": "code",
   "execution_count": null,
   "metadata": {
    "deletable": false,
    "nbgrader": {
     "cell_type": "code",
     "checksum": "47c21f6e75264ad7db846d679c1bc916",
     "grade": true,
     "grade_id": "cell-0216033b3717d4b2",
     "locked": false,
     "points": 1,
     "schema_version": 3,
     "solution": true,
     "task": false
    }
   },
   "outputs": [],
   "source": [
    "# YOUR CODE HERE\n",
    "raise NotImplementedError()"
   ]
  },
  {
   "cell_type": "markdown",
   "metadata": {},
   "source": [
    "Écrivez une fonction permettant de calculer un flocon de Koch après `n` itération. Testez avec `n=6`"
   ]
  },
  {
   "cell_type": "code",
   "execution_count": null,
   "metadata": {
    "deletable": false,
    "nbgrader": {
     "cell_type": "code",
     "checksum": "0294921975a83b3bb23250a0f82eadd5",
     "grade": true,
     "grade_id": "cell-f9a22f8537b5d886",
     "locked": false,
     "points": 1,
     "schema_version": 3,
     "solution": true,
     "task": false
    }
   },
   "outputs": [],
   "source": [
    "def koch_n(x=np.array([[0,0],[1,1]]),t = 2*np.pi/3,n=6):\n",
    "    # YOUR CODE HERE\n",
    "    raise NotImplementedError()"
   ]
  },
  {
   "cell_type": "code",
   "execution_count": null,
   "metadata": {},
   "outputs": [],
   "source": [
    "f = koch_n()\n",
    "\n",
    "plt.figure(figsize=(20,20))\n",
    "plt.plot(f[:,0],f[:,1])\n",
    "plt.axis('equal')\n",
    "plt.title('Flocon de Koch à l\\'itération 6')\n",
    "plt.show()"
   ]
  }
 ],
 "metadata": {
  "kernelspec": {
   "display_name": "Python 3",
   "language": "python",
   "name": "python3"
  },
  "language_info": {
   "codemirror_mode": {
    "name": "ipython",
    "version": 3
   },
   "file_extension": ".py",
   "mimetype": "text/x-python",
   "name": "python",
   "nbconvert_exporter": "python",
   "pygments_lexer": "ipython3",
   "version": "3.8.5"
  }
 },
 "nbformat": 4,
 "nbformat_minor": 4
}
